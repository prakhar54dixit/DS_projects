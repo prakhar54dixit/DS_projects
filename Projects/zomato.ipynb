{
 "cells": [
  {
   "cell_type": "code",
   "execution_count": 1,
   "id": "e918cdf3-250a-469c-9943-816c6e0c9f7d",
   "metadata": {},
   "outputs": [],
   "source": [
    "import numpy as np\n",
    "import pandas as pd \n",
    "import matplotlib.pyplot as plt\n",
    "import seaborn as sns"
   ]
  },
  {
   "cell_type": "code",
   "execution_count": 14,
   "id": "da8980f1-5727-41cd-be71-1e1eafad5ae7",
   "metadata": {},
   "outputs": [
    {
     "name": "stdout",
     "output_type": "stream",
     "text": [
      "<class 'pandas.core.frame.DataFrame'>\n",
      "RangeIndex: 148 entries, 0 to 147\n",
      "Data columns (total 7 columns):\n",
      " #   Column                       Non-Null Count  Dtype \n",
      "---  ------                       --------------  ----- \n",
      " 0   name                         148 non-null    object\n",
      " 1   online_order                 148 non-null    object\n",
      " 2   book_table                   148 non-null    object\n",
      " 3   rate                         148 non-null    object\n",
      " 4   votes                        148 non-null    int64 \n",
      " 5   approx_cost(for two people)  148 non-null    int64 \n",
      " 6   listed_in(type)              148 non-null    object\n",
      "dtypes: int64(2), object(5)\n",
      "memory usage: 8.2+ KB\n"
     ]
    },
    {
     "data": {
      "text/html": [
       "<div>\n",
       "<style scoped>\n",
       "    .dataframe tbody tr th:only-of-type {\n",
       "        vertical-align: middle;\n",
       "    }\n",
       "\n",
       "    .dataframe tbody tr th {\n",
       "        vertical-align: top;\n",
       "    }\n",
       "\n",
       "    .dataframe thead th {\n",
       "        text-align: right;\n",
       "    }\n",
       "</style>\n",
       "<table border=\"1\" class=\"dataframe\">\n",
       "  <thead>\n",
       "    <tr style=\"text-align: right;\">\n",
       "      <th></th>\n",
       "      <th>name</th>\n",
       "      <th>online_order</th>\n",
       "      <th>book_table</th>\n",
       "      <th>rate</th>\n",
       "      <th>votes</th>\n",
       "      <th>approx_cost(for two people)</th>\n",
       "      <th>listed_in(type)</th>\n",
       "    </tr>\n",
       "  </thead>\n",
       "  <tbody>\n",
       "    <tr>\n",
       "      <th>0</th>\n",
       "      <td>Jalsa</td>\n",
       "      <td>Yes</td>\n",
       "      <td>Yes</td>\n",
       "      <td>4.1/5</td>\n",
       "      <td>775</td>\n",
       "      <td>800</td>\n",
       "      <td>Buffet</td>\n",
       "    </tr>\n",
       "    <tr>\n",
       "      <th>1</th>\n",
       "      <td>Spice Elephant</td>\n",
       "      <td>Yes</td>\n",
       "      <td>No</td>\n",
       "      <td>4.1/5</td>\n",
       "      <td>787</td>\n",
       "      <td>800</td>\n",
       "      <td>Buffet</td>\n",
       "    </tr>\n",
       "    <tr>\n",
       "      <th>2</th>\n",
       "      <td>San Churro Cafe</td>\n",
       "      <td>Yes</td>\n",
       "      <td>No</td>\n",
       "      <td>3.8/5</td>\n",
       "      <td>918</td>\n",
       "      <td>800</td>\n",
       "      <td>Buffet</td>\n",
       "    </tr>\n",
       "    <tr>\n",
       "      <th>3</th>\n",
       "      <td>Addhuri Udupi Bhojana</td>\n",
       "      <td>No</td>\n",
       "      <td>No</td>\n",
       "      <td>3.7/5</td>\n",
       "      <td>88</td>\n",
       "      <td>300</td>\n",
       "      <td>Buffet</td>\n",
       "    </tr>\n",
       "    <tr>\n",
       "      <th>4</th>\n",
       "      <td>Grand Village</td>\n",
       "      <td>No</td>\n",
       "      <td>No</td>\n",
       "      <td>3.8/5</td>\n",
       "      <td>166</td>\n",
       "      <td>600</td>\n",
       "      <td>Buffet</td>\n",
       "    </tr>\n",
       "  </tbody>\n",
       "</table>\n",
       "</div>"
      ],
      "text/plain": [
       "                    name online_order book_table   rate  votes  \\\n",
       "0                  Jalsa          Yes        Yes  4.1/5    775   \n",
       "1         Spice Elephant          Yes         No  4.1/5    787   \n",
       "2        San Churro Cafe          Yes         No  3.8/5    918   \n",
       "3  Addhuri Udupi Bhojana           No         No  3.7/5     88   \n",
       "4          Grand Village           No         No  3.8/5    166   \n",
       "\n",
       "   approx_cost(for two people) listed_in(type)  \n",
       "0                          800          Buffet  \n",
       "1                          800          Buffet  \n",
       "2                          800          Buffet  \n",
       "3                          300          Buffet  \n",
       "4                          600          Buffet  "
      ]
     },
     "execution_count": 14,
     "metadata": {},
     "output_type": "execute_result"
    }
   ],
   "source": [
    "df=pd.read_csv(\"Zomato_data.csv\")\n",
    "df.info()\n",
    "df.head()"
   ]
  },
  {
   "cell_type": "code",
   "execution_count": 48,
   "id": "e0959f8d-5d3f-43fa-8efe-307e21cb73b2",
   "metadata": {},
   "outputs": [],
   "source": [
    "def split(value):\n",
    "    val=float(value.split(\"/\")[0])\n",
    "    return val"
   ]
  },
  {
   "cell_type": "markdown",
   "id": "6013f2e4-0efb-4743-9091-d324c4507f6e",
   "metadata": {},
   "source": [
    "What type of restaurant do the majority of customers order from?"
   ]
  },
  {
   "cell_type": "code",
   "execution_count": 52,
   "id": "b5c99044-9106-4c3e-a474-409eef71085f",
   "metadata": {},
   "outputs": [
    {
     "name": "stderr",
     "output_type": "stream",
     "text": [
      "C:\\Users\\prakh\\AppData\\Local\\Temp\\ipykernel_5084\\970715181.py:1: FutureWarning: \n",
      "\n",
      "Passing `palette` without assigning `hue` is deprecated and will be removed in v0.14.0. Assign the `x` variable to `hue` and set `legend=False` for the same effect.\n",
      "\n",
      "  sns.countplot(x=df['listed_in(type)'],palette='magma')\n"
     ]
    },
    {
     "data": {
      "text/plain": [
       "<Axes: xlabel='listed_in(type)', ylabel='count'>"
      ]
     },
     "execution_count": 52,
     "metadata": {},
     "output_type": "execute_result"
    },
    {
     "data": {
      "image/png": "[encoded data removed]",
      "text/plain": [
       "<Figure size 640x480 with 1 Axes>"
      ]
     },
     "metadata": {},
     "output_type": "display_data"
    }
   ],
   "source": [
    "sns.countplot(x=df['listed_in(type)'],palette='magma')"
   ]
  },
  {
   "cell_type": "markdown",
   "id": "fe277b2f-929b-4663-8824-1594fc010332",
   "metadata": {},
   "source": [
    "How many votes has each type of restaurant received from customers?"
   ]
  },
  {
   "cell_type": "code",
   "execution_count": 68,
   "id": "8701b56d-86cf-422b-89ab-e8a789e268f1",
   "metadata": {},
   "outputs": [
    {
     "data": {
      "text/plain": [
       "listed_in(type)\n",
       "Dining    20363\n",
       "other      9367\n",
       "Cafes      6434\n",
       "Buffet     3028\n",
       "Name: votes, dtype: int64"
      ]
     },
     "execution_count": 68,
     "metadata": {},
     "output_type": "execute_result"
    }
   ],
   "source": [
    "# Total votes received by each restaurant type\n",
    "votes_by_type = df.groupby('listed_in(type)')['votes'].sum().sort_values(ascending=False)\n",
    "votes_by_type"
   ]
  },
  {
   "cell_type": "markdown",
   "id": "b85d3821-bed7-4651-82cf-79d6bed9c32f",
   "metadata": {},
   "source": [
    " What are the ratings that the majority of restaurants have received?"
   ]
  },
  {
   "cell_type": "code",
   "execution_count": 70,
   "id": "744e22c5-3282-44ae-9488-b44902a36d98",
   "metadata": {},
   "outputs": [
    {
     "name": "stderr",
     "output_type": "stream",
     "text": [
      "C:\\Users\\prakh\\AppData\\Local\\Temp\\ipykernel_5084\\2960558067.py:1: FutureWarning: \n",
      "\n",
      "Passing `palette` without assigning `hue` is deprecated and will be removed in v0.14.0. Assign the `x` variable to `hue` and set `legend=False` for the same effect.\n",
      "\n",
      "  sns.countplot(x=df['rate'],palette='rainbow')\n"
     ]
    },
    {
     "data": {
      "text/plain": [
       "<Axes: xlabel='rate', ylabel='count'>"
      ]
     },
     "execution_count": 70,
     "metadata": {},
     "output_type": "execute_result"
    },
    {
     "data": {
      "image/png": "[encoded data removed]",
      "text/plain": [
       "<Figure size 640x480 with 1 Axes>"
      ]
     },
     "metadata": {},
     "output_type": "display_data"
    }
   ],
   "source": [
    "sns.countplot(x=df['rate'],palette='rainbow')"
   ]
  },
  {
   "cell_type": "markdown",
   "id": "ac8a6dee-eb74-463f-946a-9ff8d255ca08",
   "metadata": {},
   "source": [
    "Zomato has observed that most couples order most of their food online. What is their average\n",
    "spending on each order?"
   ]
  },
  {
   "cell_type": "code",
   "execution_count": 73,
   "id": "37a52c9c-a12f-447e-a423-1eef45596391",
   "metadata": {},
   "outputs": [
    {
     "data": {
      "text/plain": [
       "np.float64(510.3448275862069)"
      ]
     },
     "execution_count": 73,
     "metadata": {},
     "output_type": "execute_result"
    }
   ],
   "source": [
    "df[df['online_order']=='Yes']['approx_cost(for two people)'].mean()"
   ]
  },
  {
   "cell_type": "markdown",
   "id": "55056ec8-7568-421f-986c-9be1350f75de",
   "metadata": {},
   "source": [
    "Which mode (online or offline) has received the maximum rating?"
   ]
  },
  {
   "cell_type": "code",
   "execution_count": 77,
   "id": "2e74191f-1d87-4668-93c6-cf8aa617f2b0",
   "metadata": {},
   "outputs": [
    {
     "data": {
      "text/plain": [
       "<Axes: xlabel='online_order', ylabel='rate'>"
      ]
     },
     "execution_count": 77,
     "metadata": {},
     "output_type": "execute_result"
    },
    {
     "data": {
      "image/png": "[encoded data removed]",
      "text/plain": [
       "<Figure size 600x600 with 1 Axes>"
      ]
     },
     "metadata": {},
     "output_type": "display_data"
    }
   ],
   "source": [
    "plt.figure(figsize = (6,6))\n",
    "sns.boxplot(x = 'online_order', y = 'rate' , data = df)"
   ]
  },
  {
   "cell_type": "markdown",
   "id": "452c56c4-6e11-4982-ab4f-d1ca1f3b7082",
   "metadata": {},
   "source": [
    "Which type of restaurant received more offline orders, so that Zomato can provide customers with\n",
    "some good offers?"
   ]
  },
  {
   "cell_type": "code",
   "execution_count": 79,
   "id": "448f9c52-fc92-4b80-8cc5-365f9197dea2",
   "metadata": {},
   "outputs": [
    {
     "data": {
      "text/plain": [
       "listed_in(type)\n",
       "Dining    77\n",
       "Cafes      8\n",
       "Buffet     3\n",
       "other      2\n",
       "Name: count, dtype: int64"
      ]
     },
     "execution_count": 79,
     "metadata": {},
     "output_type": "execute_result"
    }
   ],
   "source": [
    "df[df['online_order']=='No']['listed_in(type)'].value_counts()"
   ]
  },
  {
   "cell_type": "markdown",
   "id": "59aee0c7-f77d-42d5-ac2f-d023651b57ba",
   "metadata": {},
   "source": [
    "What are the unique types of listings (`listed_in(type)`)?"
   ]
  },
  {
   "cell_type": "code",
   "execution_count": 80,
   "id": "9293f936-0d37-41ff-a934-9fb21ececda8",
   "metadata": {},
   "outputs": [
    {
     "data": {
      "text/plain": [
       "array(['Buffet', 'Cafes', 'other', 'Dining'], dtype=object)"
      ]
     },
     "execution_count": 80,
     "metadata": {},
     "output_type": "execute_result"
    }
   ],
   "source": [
    "df['listed_in(type)'].unique()"
   ]
  },
  {
   "cell_type": "markdown",
   "id": "092d8da8-114b-4156-8a32-37dcca94e02d",
   "metadata": {},
   "source": [
    "Are there any missing or null values in the dataset?"
   ]
  },
  {
   "cell_type": "code",
   "execution_count": 81,
   "id": "068ceba5-cf02-4fdd-a371-cb0beee32794",
   "metadata": {},
   "outputs": [
    {
     "data": {
      "text/plain": [
       "name                           0\n",
       "online_order                   0\n",
       "book_table                     0\n",
       "rate                           0\n",
       "votes                          0\n",
       "approx_cost(for two people)    0\n",
       "listed_in(type)                0\n",
       "rate_cleaned                   0\n",
       "dtype: int64"
      ]
     },
     "execution_count": 81,
     "metadata": {},
     "output_type": "execute_result"
    }
   ],
   "source": [
    "df.isnull().sum()"
   ]
  },
  {
   "cell_type": "markdown",
   "id": "d804a4e6-e61c-44be-9aa1-d22d2fbba7c3",
   "metadata": {},
   "source": [
    "What is the average cost for two people across the entire dataset?"
   ]
  },
  {
   "cell_type": "code",
   "execution_count": 82,
   "id": "c3130915-49f4-4b8a-83dc-b8b4d560033d",
   "metadata": {},
   "outputs": [
    {
     "data": {
      "text/plain": [
       "np.float64(418.2432432432432)"
      ]
     },
     "execution_count": 82,
     "metadata": {},
     "output_type": "execute_result"
    }
   ],
   "source": [
    "df['approx_cost(for two people)'].mean()"
   ]
  },
  {
   "cell_type": "markdown",
   "id": "29258a8a-b13a-4ac7-a9a4-0b317be907b9",
   "metadata": {},
   "source": [
    "Which restaurants have the highest and lowest ratings?"
   ]
  },
  {
   "cell_type": "code",
   "execution_count": 96,
   "id": "997f61df-1be3-435a-bf12-79e4c8364319",
   "metadata": {},
   "outputs": [],
   "source": [
    "top=df.groupby('name')['rate'].mean().sort_values(ascending=False).head()"
   ]
  },
  {
   "cell_type": "code",
   "execution_count": 109,
   "id": "c9987b72-7fa6-457c-82d3-58e9314889cb",
   "metadata": {},
   "outputs": [
    {
     "name": "stderr",
     "output_type": "stream",
     "text": [
      "C:\\Users\\prakh\\AppData\\Local\\Temp\\ipykernel_5084\\3322235108.py:1: FutureWarning: \n",
      "\n",
      "Passing `palette` without assigning `hue` is deprecated and will be removed in v0.14.0. Assign the `y` variable to `hue` and set `legend=False` for the same effect.\n",
      "\n",
      "  sns.barplot(y=top.index,x=top.values,palette='viridis')\n"
     ]
    },
    {
     "data": {
      "text/plain": [
       "Text(0.5, 0, 'Rating')"
      ]
     },
     "execution_count": 109,
     "metadata": {},
     "output_type": "execute_result"
    },
    {
     "data": {
      "image/png": "[encoded data removed]",
      "text/plain": [
       "<Figure size 640x480 with 1 Axes>"
      ]
     },
     "metadata": {},
     "output_type": "display_data"
    }
   ],
   "source": [
    "sns.barplot(y=top.index,x=top.values,palette='viridis')\n",
    "plt.xlabel(\"Rating\")"
   ]
  },
  {
   "cell_type": "markdown",
   "id": "19a151a5-a159-4f7e-b5fa-b47e2f14f05f",
   "metadata": {},
   "source": [
    "How many restaurants offer online ordering and table booking?"
   ]
  },
  {
   "cell_type": "code",
   "execution_count": 104,
   "id": "39ac07f2-13cb-41a1-9199-28f18a1a972b",
   "metadata": {},
   "outputs": [
    {
     "data": {
      "text/plain": [
       "7"
      ]
     },
     "execution_count": 104,
     "metadata": {},
     "output_type": "execute_result"
    }
   ],
   "source": [
    "df[(df['online_order']=='Yes') & (df['book_table']=='Yes')].shape[0]"
   ]
  },
  {
   "cell_type": "markdown",
   "id": "c6f22f99-a852-42c7-8ec6-ef73742f5ca8",
   "metadata": {},
   "source": [
    "Which restaurant has received the highest number of votes?"
   ]
  },
  {
   "cell_type": "code",
   "execution_count": 110,
   "id": "5c4e7d5a-2080-4213-8529-26d3a5938804",
   "metadata": {},
   "outputs": [
    {
     "name": "stdout",
     "output_type": "stream",
     "text": [
      "<class 'pandas.core.frame.DataFrame'>\n",
      "RangeIndex: 148 entries, 0 to 147\n",
      "Data columns (total 8 columns):\n",
      " #   Column                       Non-Null Count  Dtype  \n",
      "---  ------                       --------------  -----  \n",
      " 0   name                         148 non-null    object \n",
      " 1   online_order                 148 non-null    object \n",
      " 2   book_table                   148 non-null    object \n",
      " 3   rate                         148 non-null    float64\n",
      " 4   votes                        148 non-null    int64  \n",
      " 5   approx_cost(for two people)  148 non-null    int64  \n",
      " 6   listed_in(type)              148 non-null    object \n",
      " 7   rate_cleaned                 148 non-null    float64\n",
      "dtypes: float64(2), int64(2), object(4)\n",
      "memory usage: 9.4+ KB\n"
     ]
    }
   ],
   "source": [
    "df.groupby(\"name\")['votes'].sum().sort_values(ascending=False).head()\n",
    "df.info()"
   ]
  },
  {
   "cell_type": "markdown",
   "id": "b6a45e10-881d-4a8b-bfd1-fe2d061b1d8f",
   "metadata": {},
   "source": [
    "What is the average rating per restaurant type (`listed_in(type)`)?"
   ]
  },
  {
   "cell_type": "code",
   "execution_count": 111,
   "id": "db0f6c5e-7374-4ea2-9bee-fdfa1827616c",
   "metadata": {},
   "outputs": [
    {
     "data": {
      "text/plain": [
       "listed_in(type)\n",
       "Buffet    3.842857\n",
       "Cafes     3.765217\n",
       "Dining    3.571818\n",
       "other     3.912500\n",
       "Name: rate, dtype: float64"
      ]
     },
     "execution_count": 111,
     "metadata": {},
     "output_type": "execute_result"
    }
   ],
   "source": [
    "df.groupby(\"listed_in(type)\")['rate'].mean()"
   ]
  },
  {
   "cell_type": "markdown",
   "id": "0573730b-3111-4b7c-9d21-10f905064396",
   "metadata": {},
   "source": [
    "What is the average cost for two by type of listing (e.g., Buffet vs Cafes)?"
   ]
  },
  {
   "cell_type": "code",
   "execution_count": 123,
   "id": "736012f7-44f6-427c-9faa-da6552ac5137",
   "metadata": {},
   "outputs": [],
   "source": [
    "dt=df.groupby(\"listed_in(type)\")['approx_cost(for two people)'].mean()"
   ]
  },
  {
   "cell_type": "code",
   "execution_count": 125,
   "id": "3a651a1f-3ae1-42b9-9943-4a1890174c89",
   "metadata": {},
   "outputs": [
    {
     "name": "stderr",
     "output_type": "stream",
     "text": [
      "C:\\Users\\prakh\\AppData\\Local\\Temp\\ipykernel_5084\\4144454619.py:1: FutureWarning: \n",
      "\n",
      "Passing `palette` without assigning `hue` is deprecated and will be removed in v0.14.0. Assign the `x` variable to `hue` and set `legend=False` for the same effect.\n",
      "\n",
      "  sns.barplot(x=dt.index,y=dt.values,palette='rainbow')\n"
     ]
    },
    {
     "data": {
      "text/plain": [
       "<Axes: xlabel='listed_in(type)'>"
      ]
     },
     "execution_count": 125,
     "metadata": {},
     "output_type": "execute_result"
    },
    {
     "data": {
      "image/png": "[encoded data removed]",
      "text/plain": [
       "<Figure size 640x480 with 1 Axes>"
      ]
     },
     "metadata": {},
     "output_type": "display_data"
    }
   ],
   "source": [
    "sns.barplot(x=dt.index,y=dt.values,palette='rainbow')"
   ]
  },
  {
   "cell_type": "markdown",
   "id": "9da08991-6ba1-495d-9486-ad66de93e1c8",
   "metadata": {},
   "source": [
    "Which restaurants have high ratings but low votes? (Hidden gems!)"
   ]
  },
  {
   "cell_type": "code",
   "execution_count": 131,
   "id": "49d521ca-1f9c-4e91-bdcc-126c130d2b88",
   "metadata": {},
   "outputs": [
    {
     "data": {
      "text/html": [
       "<div>\n",
       "<style scoped>\n",
       "    .dataframe tbody tr th:only-of-type {\n",
       "        vertical-align: middle;\n",
       "    }\n",
       "\n",
       "    .dataframe tbody tr th {\n",
       "        vertical-align: top;\n",
       "    }\n",
       "\n",
       "    .dataframe thead th {\n",
       "        text-align: right;\n",
       "    }\n",
       "</style>\n",
       "<table border=\"1\" class=\"dataframe\">\n",
       "  <thead>\n",
       "    <tr style=\"text-align: right;\">\n",
       "      <th></th>\n",
       "      <th>name</th>\n",
       "      <th>rate</th>\n",
       "      <th>votes</th>\n",
       "    </tr>\n",
       "  </thead>\n",
       "  <tbody>\n",
       "    <tr>\n",
       "      <th>7</th>\n",
       "      <td>Onesta</td>\n",
       "      <td>4.6</td>\n",
       "      <td>2556</td>\n",
       "    </tr>\n",
       "    <tr>\n",
       "      <th>44</th>\n",
       "      <td>Onesta</td>\n",
       "      <td>4.6</td>\n",
       "      <td>2556</td>\n",
       "    </tr>\n",
       "    <tr>\n",
       "      <th>86</th>\n",
       "      <td>Meghana Foods</td>\n",
       "      <td>4.4</td>\n",
       "      <td>4401</td>\n",
       "    </tr>\n",
       "    <tr>\n",
       "      <th>38</th>\n",
       "      <td>Empire Restaurant</td>\n",
       "      <td>4.4</td>\n",
       "      <td>4884</td>\n",
       "    </tr>\n",
       "    <tr>\n",
       "      <th>52</th>\n",
       "      <td>Corner House Ice Cream</td>\n",
       "      <td>4.3</td>\n",
       "      <td>345</td>\n",
       "    </tr>\n",
       "    <tr>\n",
       "      <th>81</th>\n",
       "      <td>Frozen Bottle</td>\n",
       "      <td>4.2</td>\n",
       "      <td>146</td>\n",
       "    </tr>\n",
       "    <tr>\n",
       "      <th>11</th>\n",
       "      <td>Cafe Shuffle</td>\n",
       "      <td>4.2</td>\n",
       "      <td>150</td>\n",
       "    </tr>\n",
       "    <tr>\n",
       "      <th>12</th>\n",
       "      <td>The Coffee Shack</td>\n",
       "      <td>4.2</td>\n",
       "      <td>164</td>\n",
       "    </tr>\n",
       "    <tr>\n",
       "      <th>60</th>\n",
       "      <td>Peppy Peppers</td>\n",
       "      <td>4.2</td>\n",
       "      <td>244</td>\n",
       "    </tr>\n",
       "    <tr>\n",
       "      <th>57</th>\n",
       "      <td>Wamama</td>\n",
       "      <td>4.2</td>\n",
       "      <td>354</td>\n",
       "    </tr>\n",
       "  </tbody>\n",
       "</table>\n",
       "</div>"
      ],
      "text/plain": [
       "                      name  rate  votes\n",
       "7                   Onesta   4.6   2556\n",
       "44                  Onesta   4.6   2556\n",
       "86           Meghana Foods   4.4   4401\n",
       "38       Empire Restaurant   4.4   4884\n",
       "52  Corner House Ice Cream   4.3    345\n",
       "81           Frozen Bottle   4.2    146\n",
       "11            Cafe Shuffle   4.2    150\n",
       "12        The Coffee Shack   4.2    164\n",
       "60           Peppy Peppers   4.2    244\n",
       "57                  Wamama   4.2    354"
      ]
     },
     "execution_count": 131,
     "metadata": {},
     "output_type": "execute_result"
    }
   ],
   "source": [
    "df.sort_values(['rate','votes'],ascending=[False,True])[['name','rate','votes']].head(10)"
   ]
  },
  {
   "cell_type": "markdown",
   "id": "a6be1fa8-f82f-441d-a7f8-88c54508fd01",
   "metadata": {},
   "source": [
    "Create a bar chart showing count of restaurants per listing type."
   ]
  },
  {
   "cell_type": "code",
   "execution_count": 132,
   "id": "75140414-6454-42aa-b9d0-fd5376e1fe23",
   "metadata": {},
   "outputs": [
    {
     "data": {
      "text/html": [
       "<div>\n",
       "<style scoped>\n",
       "    .dataframe tbody tr th:only-of-type {\n",
       "        vertical-align: middle;\n",
       "    }\n",
       "\n",
       "    .dataframe tbody tr th {\n",
       "        vertical-align: top;\n",
       "    }\n",
       "\n",
       "    .dataframe thead th {\n",
       "        text-align: right;\n",
       "    }\n",
       "</style>\n",
       "<table border=\"1\" class=\"dataframe\">\n",
       "  <thead>\n",
       "    <tr style=\"text-align: right;\">\n",
       "      <th></th>\n",
       "      <th>name</th>\n",
       "      <th>online_order</th>\n",
       "      <th>book_table</th>\n",
       "      <th>rate</th>\n",
       "      <th>votes</th>\n",
       "      <th>approx_cost(for two people)</th>\n",
       "      <th>listed_in(type)</th>\n",
       "      <th>rate_cleaned</th>\n",
       "    </tr>\n",
       "  </thead>\n",
       "  <tbody>\n",
       "    <tr>\n",
       "      <th>0</th>\n",
       "      <td>Jalsa</td>\n",
       "      <td>Yes</td>\n",
       "      <td>Yes</td>\n",
       "      <td>4.1</td>\n",
       "      <td>775</td>\n",
       "      <td>800</td>\n",
       "      <td>Buffet</td>\n",
       "      <td>4.1</td>\n",
       "    </tr>\n",
       "    <tr>\n",
       "      <th>1</th>\n",
       "      <td>Spice Elephant</td>\n",
       "      <td>Yes</td>\n",
       "      <td>No</td>\n",
       "      <td>4.1</td>\n",
       "      <td>787</td>\n",
       "      <td>800</td>\n",
       "      <td>Buffet</td>\n",
       "      <td>4.1</td>\n",
       "    </tr>\n",
       "    <tr>\n",
       "      <th>2</th>\n",
       "      <td>San Churro Cafe</td>\n",
       "      <td>Yes</td>\n",
       "      <td>No</td>\n",
       "      <td>3.8</td>\n",
       "      <td>918</td>\n",
       "      <td>800</td>\n",
       "      <td>Buffet</td>\n",
       "      <td>3.8</td>\n",
       "    </tr>\n",
       "    <tr>\n",
       "      <th>3</th>\n",
       "      <td>Addhuri Udupi Bhojana</td>\n",
       "      <td>No</td>\n",
       "      <td>No</td>\n",
       "      <td>3.7</td>\n",
       "      <td>88</td>\n",
       "      <td>300</td>\n",
       "      <td>Buffet</td>\n",
       "      <td>3.7</td>\n",
       "    </tr>\n",
       "    <tr>\n",
       "      <th>4</th>\n",
       "      <td>Grand Village</td>\n",
       "      <td>No</td>\n",
       "      <td>No</td>\n",
       "      <td>3.8</td>\n",
       "      <td>166</td>\n",
       "      <td>600</td>\n",
       "      <td>Buffet</td>\n",
       "      <td>3.8</td>\n",
       "    </tr>\n",
       "  </tbody>\n",
       "</table>\n",
       "</div>"
      ],
      "text/plain": [
       "                    name online_order book_table  rate  votes  \\\n",
       "0                  Jalsa          Yes        Yes   4.1    775   \n",
       "1         Spice Elephant          Yes         No   4.1    787   \n",
       "2        San Churro Cafe          Yes         No   3.8    918   \n",
       "3  Addhuri Udupi Bhojana           No         No   3.7     88   \n",
       "4          Grand Village           No         No   3.8    166   \n",
       "\n",
       "   approx_cost(for two people) listed_in(type)  rate_cleaned  \n",
       "0                          800          Buffet           4.1  \n",
       "1                          800          Buffet           4.1  \n",
       "2                          800          Buffet           3.8  \n",
       "3                          300          Buffet           3.7  \n",
       "4                          600          Buffet           3.8  "
      ]
     },
     "execution_count": 132,
     "metadata": {},
     "output_type": "execute_result"
    }
   ],
   "source": [
    "df.head()"
   ]
  },
  {
   "cell_type": "code",
   "execution_count": 134,
   "id": "ddb14181-ded8-49e4-ac99-85cbec695bbe",
   "metadata": {},
   "outputs": [],
   "source": [
    "typ=df['listed_in(type)'].value_counts()"
   ]
  },
  {
   "cell_type": "code",
   "execution_count": 137,
   "id": "c7cb0e58-f341-4099-b63b-9caf1655b738",
   "metadata": {},
   "outputs": [
    {
     "name": "stderr",
     "output_type": "stream",
     "text": [
      "C:\\Users\\prakh\\AppData\\Local\\Temp\\ipykernel_5084\\2281111159.py:1: FutureWarning: \n",
      "\n",
      "Passing `palette` without assigning `hue` is deprecated and will be removed in v0.14.0. Assign the `y` variable to `hue` and set `legend=False` for the same effect.\n",
      "\n",
      "  sns.barplot(x=typ.values,y=typ.index,palette='dark')\n"
     ]
    },
    {
     "data": {
      "text/plain": [
       "Text(0.5, 0, 'No. of Restaurants')"
      ]
     },
     "execution_count": 137,
     "metadata": {},
     "output_type": "execute_result"
    },
    {
     "data": {
      "image/png": "[encoded data removed]",
      "text/plain": [
       "<Figure size 640x480 with 1 Axes>"
      ]
     },
     "metadata": {},
     "output_type": "display_data"
    }
   ],
   "source": [
    "sns.barplot(x=typ.values,y=typ.index,palette='dark')\n",
    "plt.xlabel(\"No. of Restaurants\")"
   ]
  },
  {
   "cell_type": "markdown",
   "id": "7fdab829-68c3-4075-9bcd-617a8add5a6f",
   "metadata": {},
   "source": [
    "Top 10 most voted restaurants per type."
   ]
  },
  {
   "cell_type": "code",
   "execution_count": 144,
   "id": "9ec248fb-024f-4fd7-9aa0-d5b82fa61b75",
   "metadata": {},
   "outputs": [
    {
     "data": {
      "text/html": [
       "<div>\n",
       "<style scoped>\n",
       "    .dataframe tbody tr th:only-of-type {\n",
       "        vertical-align: middle;\n",
       "    }\n",
       "\n",
       "    .dataframe tbody tr th {\n",
       "        vertical-align: top;\n",
       "    }\n",
       "\n",
       "    .dataframe thead th {\n",
       "        text-align: right;\n",
       "    }\n",
       "</style>\n",
       "<table border=\"1\" class=\"dataframe\">\n",
       "  <thead>\n",
       "    <tr style=\"text-align: right;\">\n",
       "      <th></th>\n",
       "      <th>name</th>\n",
       "      <th>listed_in(type)</th>\n",
       "      <th>votes</th>\n",
       "      <th>rate</th>\n",
       "    </tr>\n",
       "  </thead>\n",
       "  <tbody>\n",
       "    <tr>\n",
       "      <th>38</th>\n",
       "      <td>Empire Restaurant</td>\n",
       "      <td>other</td>\n",
       "      <td>4884</td>\n",
       "      <td>4.4</td>\n",
       "    </tr>\n",
       "    <tr>\n",
       "      <th>86</th>\n",
       "      <td>Meghana Foods</td>\n",
       "      <td>Dining</td>\n",
       "      <td>4401</td>\n",
       "      <td>4.4</td>\n",
       "    </tr>\n",
       "    <tr>\n",
       "      <th>7</th>\n",
       "      <td>Onesta</td>\n",
       "      <td>Cafes</td>\n",
       "      <td>2556</td>\n",
       "      <td>4.6</td>\n",
       "    </tr>\n",
       "    <tr>\n",
       "      <th>44</th>\n",
       "      <td>Onesta</td>\n",
       "      <td>other</td>\n",
       "      <td>2556</td>\n",
       "      <td>4.6</td>\n",
       "    </tr>\n",
       "    <tr>\n",
       "      <th>65</th>\n",
       "      <td>Kabab Magic</td>\n",
       "      <td>Dining</td>\n",
       "      <td>1720</td>\n",
       "      <td>4.1</td>\n",
       "    </tr>\n",
       "    <tr>\n",
       "      <th>37</th>\n",
       "      <td>Szechuan Dragon</td>\n",
       "      <td>Dining</td>\n",
       "      <td>1647</td>\n",
       "      <td>4.2</td>\n",
       "    </tr>\n",
       "    <tr>\n",
       "      <th>54</th>\n",
       "      <td>Roving Feast</td>\n",
       "      <td>Dining</td>\n",
       "      <td>1047</td>\n",
       "      <td>4.0</td>\n",
       "    </tr>\n",
       "    <tr>\n",
       "      <th>2</th>\n",
       "      <td>San Churro Cafe</td>\n",
       "      <td>Buffet</td>\n",
       "      <td>918</td>\n",
       "      <td>3.8</td>\n",
       "    </tr>\n",
       "    <tr>\n",
       "      <th>14</th>\n",
       "      <td>San Churro Cafe</td>\n",
       "      <td>Cafes</td>\n",
       "      <td>918</td>\n",
       "      <td>3.8</td>\n",
       "    </tr>\n",
       "    <tr>\n",
       "      <th>67</th>\n",
       "      <td>Gustoes Beer House</td>\n",
       "      <td>Dining</td>\n",
       "      <td>868</td>\n",
       "      <td>4.1</td>\n",
       "    </tr>\n",
       "    <tr>\n",
       "      <th>63</th>\n",
       "      <td>Jeet Restaurant</td>\n",
       "      <td>Dining</td>\n",
       "      <td>808</td>\n",
       "      <td>4.0</td>\n",
       "    </tr>\n",
       "    <tr>\n",
       "      <th>47</th>\n",
       "      <td>Recipe</td>\n",
       "      <td>Dining</td>\n",
       "      <td>804</td>\n",
       "      <td>4.0</td>\n",
       "    </tr>\n",
       "    <tr>\n",
       "      <th>1</th>\n",
       "      <td>Spice Elephant</td>\n",
       "      <td>Buffet</td>\n",
       "      <td>787</td>\n",
       "      <td>4.1</td>\n",
       "    </tr>\n",
       "    <tr>\n",
       "      <th>0</th>\n",
       "      <td>Jalsa</td>\n",
       "      <td>Buffet</td>\n",
       "      <td>775</td>\n",
       "      <td>4.1</td>\n",
       "    </tr>\n",
       "    <tr>\n",
       "      <th>145</th>\n",
       "      <td>Anna Kuteera</td>\n",
       "      <td>Dining</td>\n",
       "      <td>771</td>\n",
       "      <td>4.0</td>\n",
       "    </tr>\n",
       "    <tr>\n",
       "      <th>48</th>\n",
       "      <td>Beijing Bites</td>\n",
       "      <td>Dining</td>\n",
       "      <td>679</td>\n",
       "      <td>3.7</td>\n",
       "    </tr>\n",
       "    <tr>\n",
       "      <th>55</th>\n",
       "      <td>FreshMenu</td>\n",
       "      <td>Dining</td>\n",
       "      <td>627</td>\n",
       "      <td>3.9</td>\n",
       "    </tr>\n",
       "    <tr>\n",
       "      <th>31</th>\n",
       "      <td>Foodiction</td>\n",
       "      <td>other</td>\n",
       "      <td>506</td>\n",
       "      <td>2.8</td>\n",
       "    </tr>\n",
       "    <tr>\n",
       "      <th>9</th>\n",
       "      <td>Smacznego</td>\n",
       "      <td>Cafes</td>\n",
       "      <td>504</td>\n",
       "      <td>4.2</td>\n",
       "    </tr>\n",
       "    <tr>\n",
       "      <th>13</th>\n",
       "      <td>Caf-Eleven</td>\n",
       "      <td>Cafes</td>\n",
       "      <td>424</td>\n",
       "      <td>4.0</td>\n",
       "    </tr>\n",
       "    <tr>\n",
       "      <th>34</th>\n",
       "      <td>Faasos</td>\n",
       "      <td>other</td>\n",
       "      <td>415</td>\n",
       "      <td>4.2</td>\n",
       "    </tr>\n",
       "    <tr>\n",
       "      <th>10</th>\n",
       "      <td>Village Café</td>\n",
       "      <td>Cafes</td>\n",
       "      <td>402</td>\n",
       "      <td>4.1</td>\n",
       "    </tr>\n",
       "    <tr>\n",
       "      <th>57</th>\n",
       "      <td>Wamama</td>\n",
       "      <td>other</td>\n",
       "      <td>354</td>\n",
       "      <td>4.2</td>\n",
       "    </tr>\n",
       "    <tr>\n",
       "      <th>8</th>\n",
       "      <td>Penthouse Cafe</td>\n",
       "      <td>other</td>\n",
       "      <td>324</td>\n",
       "      <td>4.0</td>\n",
       "    </tr>\n",
       "    <tr>\n",
       "      <th>5</th>\n",
       "      <td>Timepass Dinner</td>\n",
       "      <td>Buffet</td>\n",
       "      <td>286</td>\n",
       "      <td>3.8</td>\n",
       "    </tr>\n",
       "    <tr>\n",
       "      <th>60</th>\n",
       "      <td>Peppy Peppers</td>\n",
       "      <td>other</td>\n",
       "      <td>244</td>\n",
       "      <td>4.2</td>\n",
       "    </tr>\n",
       "    <tr>\n",
       "      <th>30</th>\n",
       "      <td>Redberrys</td>\n",
       "      <td>Cafes</td>\n",
       "      <td>219</td>\n",
       "      <td>4.0</td>\n",
       "    </tr>\n",
       "    <tr>\n",
       "      <th>21</th>\n",
       "      <td>Woodee Pizza</td>\n",
       "      <td>Cafes</td>\n",
       "      <td>180</td>\n",
       "      <td>3.7</td>\n",
       "    </tr>\n",
       "    <tr>\n",
       "      <th>4</th>\n",
       "      <td>Grand Village</td>\n",
       "      <td>Buffet</td>\n",
       "      <td>166</td>\n",
       "      <td>3.8</td>\n",
       "    </tr>\n",
       "    <tr>\n",
       "      <th>12</th>\n",
       "      <td>The Coffee Shack</td>\n",
       "      <td>Cafes</td>\n",
       "      <td>164</td>\n",
       "      <td>4.2</td>\n",
       "    </tr>\n",
       "    <tr>\n",
       "      <th>11</th>\n",
       "      <td>Cafe Shuffle</td>\n",
       "      <td>Cafes</td>\n",
       "      <td>150</td>\n",
       "      <td>4.2</td>\n",
       "    </tr>\n",
       "    <tr>\n",
       "      <th>29</th>\n",
       "      <td>Srinathji's Cafe</td>\n",
       "      <td>Cafes</td>\n",
       "      <td>148</td>\n",
       "      <td>3.8</td>\n",
       "    </tr>\n",
       "    <tr>\n",
       "      <th>3</th>\n",
       "      <td>Addhuri Udupi Bhojana</td>\n",
       "      <td>Buffet</td>\n",
       "      <td>88</td>\n",
       "      <td>3.7</td>\n",
       "    </tr>\n",
       "    <tr>\n",
       "      <th>73</th>\n",
       "      <td>LSD Cafe</td>\n",
       "      <td>other</td>\n",
       "      <td>84</td>\n",
       "      <td>2.9</td>\n",
       "    </tr>\n",
       "    <tr>\n",
       "      <th>6</th>\n",
       "      <td>Rosewood International Hotel - Bar &amp; Restaurant</td>\n",
       "      <td>Buffet</td>\n",
       "      <td>8</td>\n",
       "      <td>3.6</td>\n",
       "    </tr>\n",
       "  </tbody>\n",
       "</table>\n",
       "</div>"
      ],
      "text/plain": [
       "                                                name listed_in(type)  votes  \\\n",
       "38                                 Empire Restaurant           other   4884   \n",
       "86                                     Meghana Foods          Dining   4401   \n",
       "7                                             Onesta           Cafes   2556   \n",
       "44                                            Onesta           other   2556   \n",
       "65                                       Kabab Magic          Dining   1720   \n",
       "37                                   Szechuan Dragon          Dining   1647   \n",
       "54                                      Roving Feast          Dining   1047   \n",
       "2                                    San Churro Cafe          Buffet    918   \n",
       "14                                   San Churro Cafe           Cafes    918   \n",
       "67                                Gustoes Beer House          Dining    868   \n",
       "63                                   Jeet Restaurant          Dining    808   \n",
       "47                                            Recipe          Dining    804   \n",
       "1                                     Spice Elephant          Buffet    787   \n",
       "0                                              Jalsa          Buffet    775   \n",
       "145                                     Anna Kuteera          Dining    771   \n",
       "48                                     Beijing Bites          Dining    679   \n",
       "55                                         FreshMenu          Dining    627   \n",
       "31                                        Foodiction           other    506   \n",
       "9                                          Smacznego           Cafes    504   \n",
       "13                                        Caf-Eleven           Cafes    424   \n",
       "34                                            Faasos           other    415   \n",
       "10                                      Village Café           Cafes    402   \n",
       "57                                            Wamama           other    354   \n",
       "8                                     Penthouse Cafe           other    324   \n",
       "5                                    Timepass Dinner          Buffet    286   \n",
       "60                                     Peppy Peppers           other    244   \n",
       "30                                         Redberrys           Cafes    219   \n",
       "21                                      Woodee Pizza           Cafes    180   \n",
       "4                                      Grand Village          Buffet    166   \n",
       "12                                  The Coffee Shack           Cafes    164   \n",
       "11                                      Cafe Shuffle           Cafes    150   \n",
       "29                                  Srinathji's Cafe           Cafes    148   \n",
       "3                              Addhuri Udupi Bhojana          Buffet     88   \n",
       "73                                          LSD Cafe           other     84   \n",
       "6    Rosewood International Hotel - Bar & Restaurant          Buffet      8   \n",
       "\n",
       "     rate  \n",
       "38    4.4  \n",
       "86    4.4  \n",
       "7     4.6  \n",
       "44    4.6  \n",
       "65    4.1  \n",
       "37    4.2  \n",
       "54    4.0  \n",
       "2     3.8  \n",
       "14    3.8  \n",
       "67    4.1  \n",
       "63    4.0  \n",
       "47    4.0  \n",
       "1     4.1  \n",
       "0     4.1  \n",
       "145   4.0  \n",
       "48    3.7  \n",
       "55    3.9  \n",
       "31    2.8  \n",
       "9     4.2  \n",
       "13    4.0  \n",
       "34    4.2  \n",
       "10    4.1  \n",
       "57    4.2  \n",
       "8     4.0  \n",
       "5     3.8  \n",
       "60    4.2  \n",
       "30    4.0  \n",
       "21    3.7  \n",
       "4     3.8  \n",
       "12    4.2  \n",
       "11    4.2  \n",
       "29    3.8  \n",
       "3     3.7  \n",
       "73    2.9  \n",
       "6     3.6  "
      ]
     },
     "execution_count": 144,
     "metadata": {},
     "output_type": "execute_result"
    }
   ],
   "source": [
    "# Step 1: Group by 'listed_in(type)' and sort within each group by votes\n",
    "top_10_per_type = df.sort_values('votes', ascending=False).groupby('listed_in(type)').head(10)\n",
    "\n",
    "# Step 2: Optional – Select columns to display\n",
    "top_10_per_type = top_10_per_type[['name', 'listed_in(type)', 'votes', 'rate']]\n",
    "\n",
    "top_10_per_type"
   ]
  }
 ],
 "metadata": {
  "kernelspec": {
   "display_name": "Python 3 (ipykernel)",
   "language": "python",
   "name": "python3"
  },
  "language_info": {
   "codemirror_mode": {
    "name": "ipython",
    "version": 3
   },
   "file_extension": ".py",
   "mimetype": "text/x-python",
   "name": "python",
   "nbconvert_exporter": "python",
   "pygments_lexer": "ipython3",
   "version": "3.13.5"
  }
 },
 "nbformat": 4,
 "nbformat_minor": 5
}
