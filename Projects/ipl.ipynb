{
 "cells": [
  {
   "cell_type": "code",
   "execution_count": 1,
   "id": "e689efeb-2046-4003-a548-cd74941c3567",
   "metadata": {},
   "outputs": [],
   "source": [
    "import numpy as np\n",
    "import pandas as pd\n",
    "import matplotlib.pyplot as plt\n",
    "import seaborn as sns\n",
    "import warnings \n",
    "warnings.filterwarnings(\"ignore\")"
   ]
  },
  {
   "cell_type": "code",
   "execution_count": 2,
   "id": "aa7b2cf5-539c-40b1-a175-039ac604906a",
   "metadata": {},
   "outputs": [
    {
     "data": {
      "text/html": [
       "<div>\n",
       "<style scoped>\n",
       "    .dataframe tbody tr th:only-of-type {\n",
       "        vertical-align: middle;\n",
       "    }\n",
       "\n",
       "    .dataframe tbody tr th {\n",
       "        vertical-align: top;\n",
       "    }\n",
       "\n",
       "    .dataframe thead th {\n",
       "        text-align: right;\n",
       "    }\n",
       "</style>\n",
       "<table border=\"1\" class=\"dataframe\">\n",
       "  <thead>\n",
       "    <tr style=\"text-align: right;\">\n",
       "      <th></th>\n",
       "      <th>match_id</th>\n",
       "      <th>date</th>\n",
       "      <th>venue</th>\n",
       "      <th>team1</th>\n",
       "      <th>team2</th>\n",
       "      <th>stage</th>\n",
       "      <th>toss_winner</th>\n",
       "      <th>toss_decision</th>\n",
       "      <th>first_ings_score</th>\n",
       "      <th>first_ings_wkts</th>\n",
       "      <th>second_ings_score</th>\n",
       "      <th>second_ings_wkts</th>\n",
       "      <th>match_winner</th>\n",
       "      <th>won_by</th>\n",
       "      <th>margin</th>\n",
       "      <th>player_of_the_match</th>\n",
       "      <th>top_scorer</th>\n",
       "      <th>highscore</th>\n",
       "      <th>best_bowling</th>\n",
       "      <th>best_bowling_figure</th>\n",
       "    </tr>\n",
       "  </thead>\n",
       "  <tbody>\n",
       "    <tr>\n",
       "      <th>0</th>\n",
       "      <td>1</td>\n",
       "      <td>March 26,2022</td>\n",
       "      <td>Wankhede Stadium, Mumbai</td>\n",
       "      <td>Chennai</td>\n",
       "      <td>Kolkata</td>\n",
       "      <td>Group</td>\n",
       "      <td>Kolkata</td>\n",
       "      <td>Field</td>\n",
       "      <td>131</td>\n",
       "      <td>5</td>\n",
       "      <td>133</td>\n",
       "      <td>4</td>\n",
       "      <td>Kolkata</td>\n",
       "      <td>Wickets</td>\n",
       "      <td>6</td>\n",
       "      <td>Umesh Yadav</td>\n",
       "      <td>MS Dhoni</td>\n",
       "      <td>50</td>\n",
       "      <td>Dwayne Bravo</td>\n",
       "      <td>3--20</td>\n",
       "    </tr>\n",
       "    <tr>\n",
       "      <th>1</th>\n",
       "      <td>2</td>\n",
       "      <td>March 27,2022</td>\n",
       "      <td>Brabourne Stadium, Mumbai</td>\n",
       "      <td>Delhi</td>\n",
       "      <td>Mumbai</td>\n",
       "      <td>Group</td>\n",
       "      <td>Delhi</td>\n",
       "      <td>Field</td>\n",
       "      <td>177</td>\n",
       "      <td>5</td>\n",
       "      <td>179</td>\n",
       "      <td>6</td>\n",
       "      <td>Delhi</td>\n",
       "      <td>Wickets</td>\n",
       "      <td>4</td>\n",
       "      <td>Kuldeep Yadav</td>\n",
       "      <td>Ishan Kishan</td>\n",
       "      <td>81</td>\n",
       "      <td>Kuldeep Yadav</td>\n",
       "      <td>3--18</td>\n",
       "    </tr>\n",
       "    <tr>\n",
       "      <th>2</th>\n",
       "      <td>3</td>\n",
       "      <td>March 27,2022</td>\n",
       "      <td>Dr DY Patil Sports Academy, Mumbai</td>\n",
       "      <td>Banglore</td>\n",
       "      <td>Punjab</td>\n",
       "      <td>Group</td>\n",
       "      <td>Punjab</td>\n",
       "      <td>Field</td>\n",
       "      <td>205</td>\n",
       "      <td>2</td>\n",
       "      <td>208</td>\n",
       "      <td>5</td>\n",
       "      <td>Punjab</td>\n",
       "      <td>Wickets</td>\n",
       "      <td>5</td>\n",
       "      <td>Odean Smith</td>\n",
       "      <td>Faf du Plessis</td>\n",
       "      <td>88</td>\n",
       "      <td>Mohammed Siraj</td>\n",
       "      <td>2--59</td>\n",
       "    </tr>\n",
       "    <tr>\n",
       "      <th>3</th>\n",
       "      <td>4</td>\n",
       "      <td>March 28,2022</td>\n",
       "      <td>Wankhede Stadium, Mumbai</td>\n",
       "      <td>Gujarat</td>\n",
       "      <td>Lucknow</td>\n",
       "      <td>Group</td>\n",
       "      <td>Gujarat</td>\n",
       "      <td>Field</td>\n",
       "      <td>158</td>\n",
       "      <td>6</td>\n",
       "      <td>161</td>\n",
       "      <td>5</td>\n",
       "      <td>Gujarat</td>\n",
       "      <td>Wickets</td>\n",
       "      <td>5</td>\n",
       "      <td>Mohammed Shami</td>\n",
       "      <td>Deepak Hooda</td>\n",
       "      <td>55</td>\n",
       "      <td>Mohammed Shami</td>\n",
       "      <td>3--25</td>\n",
       "    </tr>\n",
       "    <tr>\n",
       "      <th>4</th>\n",
       "      <td>5</td>\n",
       "      <td>March 29,2022</td>\n",
       "      <td>Maharashtra Cricket Association Stadium,Pune</td>\n",
       "      <td>Hyderabad</td>\n",
       "      <td>Rajasthan</td>\n",
       "      <td>Group</td>\n",
       "      <td>Hyderabad</td>\n",
       "      <td>Field</td>\n",
       "      <td>210</td>\n",
       "      <td>6</td>\n",
       "      <td>149</td>\n",
       "      <td>7</td>\n",
       "      <td>Rajasthan</td>\n",
       "      <td>Runs</td>\n",
       "      <td>61</td>\n",
       "      <td>Sanju Samson</td>\n",
       "      <td>Aiden Markram</td>\n",
       "      <td>57</td>\n",
       "      <td>Yuzvendra Chahal</td>\n",
       "      <td>3--22</td>\n",
       "    </tr>\n",
       "    <tr>\n",
       "      <th>...</th>\n",
       "      <td>...</td>\n",
       "      <td>...</td>\n",
       "      <td>...</td>\n",
       "      <td>...</td>\n",
       "      <td>...</td>\n",
       "      <td>...</td>\n",
       "      <td>...</td>\n",
       "      <td>...</td>\n",
       "      <td>...</td>\n",
       "      <td>...</td>\n",
       "      <td>...</td>\n",
       "      <td>...</td>\n",
       "      <td>...</td>\n",
       "      <td>...</td>\n",
       "      <td>...</td>\n",
       "      <td>...</td>\n",
       "      <td>...</td>\n",
       "      <td>...</td>\n",
       "      <td>...</td>\n",
       "      <td>...</td>\n",
       "    </tr>\n",
       "    <tr>\n",
       "      <th>69</th>\n",
       "      <td>70</td>\n",
       "      <td>May 22,2022</td>\n",
       "      <td>Wankhede Stadium, Mumbai</td>\n",
       "      <td>Hyderabad</td>\n",
       "      <td>Punjab</td>\n",
       "      <td>Group</td>\n",
       "      <td>Hyderabad</td>\n",
       "      <td>Bat</td>\n",
       "      <td>157</td>\n",
       "      <td>8</td>\n",
       "      <td>160</td>\n",
       "      <td>5</td>\n",
       "      <td>Punjab</td>\n",
       "      <td>Wickets</td>\n",
       "      <td>5</td>\n",
       "      <td>Harpreet Brar</td>\n",
       "      <td>Liam Livingstone</td>\n",
       "      <td>49</td>\n",
       "      <td>Harpreet Brar</td>\n",
       "      <td>3--26</td>\n",
       "    </tr>\n",
       "    <tr>\n",
       "      <th>70</th>\n",
       "      <td>71</td>\n",
       "      <td>May 24,2022</td>\n",
       "      <td>Eden Gardens, Kolkata</td>\n",
       "      <td>Gujarat</td>\n",
       "      <td>Rajasthan</td>\n",
       "      <td>Playoff</td>\n",
       "      <td>Gujarat</td>\n",
       "      <td>Field</td>\n",
       "      <td>188</td>\n",
       "      <td>6</td>\n",
       "      <td>191</td>\n",
       "      <td>3</td>\n",
       "      <td>Gujarat</td>\n",
       "      <td>Wickets</td>\n",
       "      <td>7</td>\n",
       "      <td>David Miller</td>\n",
       "      <td>Jos Buttler</td>\n",
       "      <td>89</td>\n",
       "      <td>Hardik Pandya</td>\n",
       "      <td>1--14</td>\n",
       "    </tr>\n",
       "    <tr>\n",
       "      <th>71</th>\n",
       "      <td>72</td>\n",
       "      <td>May 25,2022</td>\n",
       "      <td>Eden Gardens, Kolkata</td>\n",
       "      <td>Banglore</td>\n",
       "      <td>Lucknow</td>\n",
       "      <td>Playoff</td>\n",
       "      <td>Lucknow</td>\n",
       "      <td>Field</td>\n",
       "      <td>207</td>\n",
       "      <td>4</td>\n",
       "      <td>193</td>\n",
       "      <td>6</td>\n",
       "      <td>Banglore</td>\n",
       "      <td>Runs</td>\n",
       "      <td>14</td>\n",
       "      <td>Rajat Patidar</td>\n",
       "      <td>Rajat Patidar</td>\n",
       "      <td>112</td>\n",
       "      <td>Josh Hazlewood</td>\n",
       "      <td>3--43</td>\n",
       "    </tr>\n",
       "    <tr>\n",
       "      <th>72</th>\n",
       "      <td>73</td>\n",
       "      <td>May 27,2022</td>\n",
       "      <td>Narendra Modi Stadium, Ahmedabad</td>\n",
       "      <td>Banglore</td>\n",
       "      <td>Rajasthan</td>\n",
       "      <td>Playoff</td>\n",
       "      <td>Rajasthan</td>\n",
       "      <td>Field</td>\n",
       "      <td>157</td>\n",
       "      <td>8</td>\n",
       "      <td>161</td>\n",
       "      <td>3</td>\n",
       "      <td>Rajasthan</td>\n",
       "      <td>Wickets</td>\n",
       "      <td>7</td>\n",
       "      <td>Jos Buttler</td>\n",
       "      <td>Jos Buttler</td>\n",
       "      <td>106</td>\n",
       "      <td>Prasidh Krishna</td>\n",
       "      <td>3--22</td>\n",
       "    </tr>\n",
       "    <tr>\n",
       "      <th>73</th>\n",
       "      <td>74</td>\n",
       "      <td>May 29,2022</td>\n",
       "      <td>Narendra Modi Stadium, Ahmedabad</td>\n",
       "      <td>Gujarat</td>\n",
       "      <td>Rajasthan</td>\n",
       "      <td>Final</td>\n",
       "      <td>Rajasthan</td>\n",
       "      <td>Bat</td>\n",
       "      <td>130</td>\n",
       "      <td>9</td>\n",
       "      <td>133</td>\n",
       "      <td>3</td>\n",
       "      <td>Gujarat</td>\n",
       "      <td>Wickets</td>\n",
       "      <td>7</td>\n",
       "      <td>Hardik Pandya</td>\n",
       "      <td>Shubman Gill</td>\n",
       "      <td>45</td>\n",
       "      <td>Hardik Pandya</td>\n",
       "      <td>3--17</td>\n",
       "    </tr>\n",
       "  </tbody>\n",
       "</table>\n",
       "<p>74 rows × 20 columns</p>\n",
       "</div>"
      ],
      "text/plain": [
       "    match_id           date                                         venue  \\\n",
       "0          1  March 26,2022                      Wankhede Stadium, Mumbai   \n",
       "1          2  March 27,2022                     Brabourne Stadium, Mumbai   \n",
       "2          3  March 27,2022            Dr DY Patil Sports Academy, Mumbai   \n",
       "3          4  March 28,2022                      Wankhede Stadium, Mumbai   \n",
       "4          5  March 29,2022  Maharashtra Cricket Association Stadium,Pune   \n",
       "..       ...            ...                                           ...   \n",
       "69        70    May 22,2022                      Wankhede Stadium, Mumbai   \n",
       "70        71    May 24,2022                         Eden Gardens, Kolkata   \n",
       "71        72    May 25,2022                         Eden Gardens, Kolkata   \n",
       "72        73    May 27,2022              Narendra Modi Stadium, Ahmedabad   \n",
       "73        74    May 29,2022              Narendra Modi Stadium, Ahmedabad   \n",
       "\n",
       "        team1      team2    stage toss_winner toss_decision  first_ings_score  \\\n",
       "0     Chennai    Kolkata    Group     Kolkata         Field               131   \n",
       "1       Delhi     Mumbai    Group       Delhi         Field               177   \n",
       "2    Banglore     Punjab    Group      Punjab         Field               205   \n",
       "3     Gujarat    Lucknow    Group     Gujarat         Field               158   \n",
       "4   Hyderabad  Rajasthan    Group   Hyderabad         Field               210   \n",
       "..        ...        ...      ...         ...           ...               ...   \n",
       "69  Hyderabad     Punjab    Group   Hyderabad           Bat               157   \n",
       "70    Gujarat  Rajasthan  Playoff     Gujarat         Field               188   \n",
       "71   Banglore    Lucknow  Playoff     Lucknow         Field               207   \n",
       "72   Banglore  Rajasthan  Playoff   Rajasthan         Field               157   \n",
       "73    Gujarat  Rajasthan    Final   Rajasthan           Bat               130   \n",
       "\n",
       "    first_ings_wkts  second_ings_score  second_ings_wkts match_winner  \\\n",
       "0                 5                133                 4      Kolkata   \n",
       "1                 5                179                 6        Delhi   \n",
       "2                 2                208                 5       Punjab   \n",
       "3                 6                161                 5      Gujarat   \n",
       "4                 6                149                 7    Rajasthan   \n",
       "..              ...                ...               ...          ...   \n",
       "69                8                160                 5       Punjab   \n",
       "70                6                191                 3      Gujarat   \n",
       "71                4                193                 6     Banglore   \n",
       "72                8                161                 3    Rajasthan   \n",
       "73                9                133                 3      Gujarat   \n",
       "\n",
       "     won_by  margin player_of_the_match        top_scorer  highscore  \\\n",
       "0   Wickets       6         Umesh Yadav          MS Dhoni         50   \n",
       "1   Wickets       4       Kuldeep Yadav      Ishan Kishan         81   \n",
       "2   Wickets       5         Odean Smith    Faf du Plessis         88   \n",
       "3   Wickets       5      Mohammed Shami      Deepak Hooda         55   \n",
       "4      Runs      61        Sanju Samson     Aiden Markram         57   \n",
       "..      ...     ...                 ...               ...        ...   \n",
       "69  Wickets       5       Harpreet Brar  Liam Livingstone         49   \n",
       "70  Wickets       7        David Miller       Jos Buttler         89   \n",
       "71     Runs      14       Rajat Patidar     Rajat Patidar        112   \n",
       "72  Wickets       7         Jos Buttler       Jos Buttler        106   \n",
       "73  Wickets       7       Hardik Pandya      Shubman Gill         45   \n",
       "\n",
       "        best_bowling best_bowling_figure  \n",
       "0       Dwayne Bravo               3--20  \n",
       "1      Kuldeep Yadav               3--18  \n",
       "2     Mohammed Siraj               2--59  \n",
       "3     Mohammed Shami               3--25  \n",
       "4   Yuzvendra Chahal               3--22  \n",
       "..               ...                 ...  \n",
       "69     Harpreet Brar               3--26  \n",
       "70     Hardik Pandya               1--14  \n",
       "71    Josh Hazlewood               3--43  \n",
       "72   Prasidh Krishna               3--22  \n",
       "73     Hardik Pandya               3--17  \n",
       "\n",
       "[74 rows x 20 columns]"
      ]
     },
     "execution_count": 2,
     "metadata": {},
     "output_type": "execute_result"
    }
   ],
   "source": [
    "df=pd.read_csv(\"IPL.csv\")\n",
    "df"
   ]
  },
  {
   "cell_type": "code",
   "execution_count": 3,
   "id": "6132bbc1-d1ff-4301-8f2a-073cea4e23e4",
   "metadata": {},
   "outputs": [
    {
     "name": "stdout",
     "output_type": "stream",
     "text": [
      "<class 'pandas.core.frame.DataFrame'>\n",
      "RangeIndex: 74 entries, 0 to 73\n",
      "Data columns (total 20 columns):\n",
      " #   Column               Non-Null Count  Dtype \n",
      "---  ------               --------------  ----- \n",
      " 0   match_id             74 non-null     int64 \n",
      " 1   date                 74 non-null     object\n",
      " 2   venue                74 non-null     object\n",
      " 3   team1                74 non-null     object\n",
      " 4   team2                74 non-null     object\n",
      " 5   stage                74 non-null     object\n",
      " 6   toss_winner          74 non-null     object\n",
      " 7   toss_decision        74 non-null     object\n",
      " 8   first_ings_score     74 non-null     int64 \n",
      " 9   first_ings_wkts      74 non-null     int64 \n",
      " 10  second_ings_score    74 non-null     int64 \n",
      " 11  second_ings_wkts     74 non-null     int64 \n",
      " 12  match_winner         74 non-null     object\n",
      " 13  won_by               74 non-null     object\n",
      " 14  margin               74 non-null     int64 \n",
      " 15  player_of_the_match  74 non-null     object\n",
      " 16  top_scorer           74 non-null     object\n",
      " 17  highscore            74 non-null     int64 \n",
      " 18  best_bowling         74 non-null     object\n",
      " 19  best_bowling_figure  74 non-null     object\n",
      "dtypes: int64(7), object(13)\n",
      "memory usage: 11.7+ KB\n"
     ]
    }
   ],
   "source": [
    "df.info()"
   ]
  },
  {
   "cell_type": "code",
   "execution_count": 4,
   "id": "c9d10b5f-d5df-47e0-b27f-4e8c61b8db15",
   "metadata": {},
   "outputs": [
    {
     "data": {
      "text/plain": [
       "match_id               0\n",
       "date                   0\n",
       "venue                  0\n",
       "team1                  0\n",
       "team2                  0\n",
       "stage                  0\n",
       "toss_winner            0\n",
       "toss_decision          0\n",
       "first_ings_score       0\n",
       "first_ings_wkts        0\n",
       "second_ings_score      0\n",
       "second_ings_wkts       0\n",
       "match_winner           0\n",
       "won_by                 0\n",
       "margin                 0\n",
       "player_of_the_match    0\n",
       "top_scorer             0\n",
       "highscore              0\n",
       "best_bowling           0\n",
       "best_bowling_figure    0\n",
       "dtype: int64"
      ]
     },
     "execution_count": 4,
     "metadata": {},
     "output_type": "execute_result"
    }
   ],
   "source": [
    "df.isnull().sum()"
   ]
  },
  {
   "cell_type": "markdown",
   "id": "1abe6d75-95de-4f2f-a671-a85a527d61ef",
   "metadata": {},
   "source": [
    "Total matches played?"
   ]
  },
  {
   "cell_type": "code",
   "execution_count": 5,
   "id": "35ed8c73-4cb5-4256-ada4-c17708dd3058",
   "metadata": {},
   "outputs": [
    {
     "data": {
      "text/plain": [
       "74"
      ]
     },
     "execution_count": 5,
     "metadata": {},
     "output_type": "execute_result"
    }
   ],
   "source": [
    "df.shape[0]"
   ]
  },
  {
   "cell_type": "markdown",
   "id": "6e43c172-4257-4db0-add2-a219fa9b78a0",
   "metadata": {},
   "source": [
    "Which team won the most matches?"
   ]
  },
  {
   "cell_type": "code",
   "execution_count": 6,
   "id": "5ea72c35-14ef-4e1b-9ecb-2b49849dce18",
   "metadata": {},
   "outputs": [
    {
     "data": {
      "text/plain": [
       "match_winner\n",
       "Gujarat      12\n",
       "Rajasthan    10\n",
       "Banglore      9\n",
       "Lucknow       9\n",
       "Punjab        7\n",
       "Delhi         7\n",
       "Kolkata       6\n",
       "Hyderabad     6\n",
       "Chennai       4\n",
       "Mumbai        4\n",
       "Name: count, dtype: int64"
      ]
     },
     "execution_count": 6,
     "metadata": {},
     "output_type": "execute_result"
    }
   ],
   "source": [
    "match_winners=df['match_winner'].value_counts()\n",
    "match_winners"
   ]
  },
  {
   "cell_type": "code",
   "execution_count": 7,
   "id": "423cca6f-da7f-46bb-b2ff-c3098f7b1234",
   "metadata": {},
   "outputs": [
    {
     "data": {
      "text/plain": [
       "Index(['Gujarat', 'Rajasthan', 'Banglore', 'Lucknow', 'Punjab', 'Delhi',\n",
       "       'Kolkata', 'Hyderabad', 'Chennai', 'Mumbai'],\n",
       "      dtype='object', name='match_winner')"
      ]
     },
     "execution_count": 7,
     "metadata": {},
     "output_type": "execute_result"
    }
   ],
   "source": [
    "match_winners.index"
   ]
  },
  {
   "cell_type": "code",
   "execution_count": 8,
   "id": "3f0f6981-ae32-4b03-8414-6ec19be582a1",
   "metadata": {},
   "outputs": [
    {
     "data": {
      "text/plain": [
       "Text(0.5, 0, 'No. of matches won')"
      ]
     },
     "execution_count": 8,
     "metadata": {},
     "output_type": "execute_result"
    },
    {
     "data": {
      "image/png": "[encoded data removed]",
      "text/plain": [
       "<Figure size 640x480 with 1 Axes>"
      ]
     },
     "metadata": {},
     "output_type": "display_data"
    }
   ],
   "source": [
    "sns.barplot(x=match_winners.values,y=match_winners.index,palette='tab20b')\n",
    "plt.title(\"Teams vs No. of matches won\")\n",
    "plt.xlabel(\"No. of matches won\")"
   ]
  },
  {
   "cell_type": "markdown",
   "id": "391dd7e4-132e-4b13-a22c-fa9dc71728ef",
   "metadata": {},
   "source": [
    "Toss decision trends"
   ]
  },
  {
   "cell_type": "code",
   "execution_count": 9,
   "id": "21817363-061b-4546-9522-c828da759287",
   "metadata": {},
   "outputs": [],
   "source": [
    "toss_results=df['toss_decision'].value_counts()"
   ]
  },
  {
   "cell_type": "code",
   "execution_count": 10,
   "id": "b8665929-a012-4b35-b75a-450d3bafa395",
   "metadata": {},
   "outputs": [
    {
     "data": {
      "text/plain": [
       "toss_decision\n",
       "Field    59\n",
       "Bat      15\n",
       "Name: count, dtype: int64"
      ]
     },
     "execution_count": 10,
     "metadata": {},
     "output_type": "execute_result"
    }
   ],
   "source": [
    "toss_results"
   ]
  },
  {
   "cell_type": "code",
   "execution_count": 11,
   "id": "0bd27954-4cf2-4e29-9530-10bb742de793",
   "metadata": {},
   "outputs": [
    {
     "data": {
      "text/plain": [
       "Text(0.5, 1.0, 'Toss decision trends')"
      ]
     },
     "execution_count": 11,
     "metadata": {},
     "output_type": "execute_result"
    },
    {
     "data": {
      "image/png": "[encoded data removed]",
      "text/plain": [
       "<Figure size 640x480 with 1 Axes>"
      ]
     },
     "metadata": {},
     "output_type": "display_data"
    }
   ],
   "source": [
    "sns.barplot(x=toss_results.index,y=toss_results.values,palette='rainbow')\n",
    "plt.title('Toss decision trends')"
   ]
  },
  {
   "cell_type": "markdown",
   "id": "fbb6374e-da84-41a8-aad0-f61d14353e5f",
   "metadata": {},
   "source": [
    "Toss winner vs match winner"
   ]
  },
  {
   "cell_type": "code",
   "execution_count": 12,
   "id": "3a01f093-5a35-4b9b-88fe-95598e15dc11",
   "metadata": {},
   "outputs": [
    {
     "data": {
      "text/plain": [
       "36"
      ]
     },
     "execution_count": 12,
     "metadata": {},
     "output_type": "execute_result"
    }
   ],
   "source": [
    "df[df['toss_winner']==df['match_winner'] ].shape[0]"
   ]
  },
  {
   "cell_type": "markdown",
   "id": "0901e70f-a962-4726-8d98-60af3bce7445",
   "metadata": {},
   "source": [
    "Toss wons by team:-"
   ]
  },
  {
   "cell_type": "code",
   "execution_count": 13,
   "id": "fa3d54cf-3fa8-4b4c-b37f-b4301a18152c",
   "metadata": {},
   "outputs": [
    {
     "data": {
      "text/plain": [
       "<Axes: xlabel='count', ylabel='toss_winner'>"
      ]
     },
     "execution_count": 13,
     "metadata": {},
     "output_type": "execute_result"
    },
    {
     "data": {
      "image/png": "[encoded data removed]",
      "text/plain": [
       "<Figure size 640x480 with 1 Axes>"
      ]
     },
     "metadata": {},
     "output_type": "display_data"
    }
   ],
   "source": [
    "sns.countplot(y=df['toss_winner'],palette='Pastel1')"
   ]
  },
  {
   "cell_type": "markdown",
   "id": "4b2e35a1-147b-450f-81cd-312909d266bb",
   "metadata": {},
   "source": [
    "Most player of the match"
   ]
  },
  {
   "cell_type": "code",
   "execution_count": 14,
   "id": "3ce050c2-f241-4f04-ba27-b5b1124fdd7b",
   "metadata": {},
   "outputs": [],
   "source": [
    "ans=df['player_of_the_match'].value_counts()"
   ]
  },
  {
   "cell_type": "code",
   "execution_count": 15,
   "id": "42a49dc2-b20c-429c-b953-c6d3ae73f758",
   "metadata": {},
   "outputs": [],
   "source": [
    "pom=ans.head(10)"
   ]
  },
  {
   "cell_type": "code",
   "execution_count": 16,
   "id": "bf9d2001-3647-451e-ae78-ee03dc9d9a2e",
   "metadata": {},
   "outputs": [
    {
     "data": {
      "text/plain": [
       "<Axes: ylabel='player_of_the_match'>"
      ]
     },
     "execution_count": 16,
     "metadata": {},
     "output_type": "execute_result"
    },
    {
     "data": {
      "image/png": "[encoded data removed]",
      "text/plain": [
       "<Figure size 640x480 with 1 Axes>"
      ]
     },
     "metadata": {},
     "output_type": "display_data"
    }
   ],
   "source": [
    "sns.barplot(y=pom.index,x=pom.values,palette='viridis')"
   ]
  },
  {
   "cell_type": "markdown",
   "id": "c2908297-13a0-469c-b99f-98f8f152538f",
   "metadata": {},
   "source": [
    "Which venue hosted most matches?"
   ]
  },
  {
   "cell_type": "code",
   "execution_count": 17,
   "id": "6d4139a6-12b0-422b-9a69-155abdd67181",
   "metadata": {},
   "outputs": [
    {
     "data": {
      "text/plain": [
       "venue\n",
       "Wankhede Stadium, Mumbai                        21\n",
       "Dr DY Patil Sports Academy, Mumbai              20\n",
       "Brabourne Stadium, Mumbai                       16\n",
       "Maharashtra Cricket Association Stadium,Pune    13\n",
       "Eden Gardens, Kolkata                            2\n",
       "Narendra Modi Stadium, Ahmedabad                 2\n",
       "Name: count, dtype: int64"
      ]
     },
     "execution_count": 17,
     "metadata": {},
     "output_type": "execute_result"
    }
   ],
   "source": [
    "df['venue'].value_counts()"
   ]
  },
  {
   "cell_type": "code",
   "execution_count": 18,
   "id": "c70f4714-34e9-41db-9171-dbcdb3a5ef3c",
   "metadata": {},
   "outputs": [
    {
     "data": {
      "text/plain": [
       "<Axes: xlabel='count', ylabel='venue'>"
      ]
     },
     "execution_count": 18,
     "metadata": {},
     "output_type": "execute_result"
    },
    {
     "data": {
      "image/png": "[encoded data removed]",
      "text/plain": [
       "<Figure size 640x480 with 1 Axes>"
      ]
     },
     "metadata": {},
     "output_type": "display_data"
    }
   ],
   "source": [
    "sns.countplot(df['venue'],palette='viridis')"
   ]
  },
  {
   "cell_type": "markdown",
   "id": "87872560-fbb4-4071-876e-4f04a7856ecd",
   "metadata": {},
   "source": [
    "What are the different match stages (e.g., group, semi-final, final)?"
   ]
  },
  {
   "cell_type": "code",
   "execution_count": 19,
   "id": "acefc044-ca68-4cca-8acd-dcbdf3838a59",
   "metadata": {},
   "outputs": [
    {
     "data": {
      "text/plain": [
       "stage\n",
       "Group      70\n",
       "Playoff     3\n",
       "Final       1\n",
       "Name: count, dtype: int64"
      ]
     },
     "execution_count": 19,
     "metadata": {},
     "output_type": "execute_result"
    }
   ],
   "source": [
    "stg=df['stage']\n",
    "stg.value_counts()"
   ]
  },
  {
   "cell_type": "code",
   "execution_count": 20,
   "id": "8118222c-381e-4b85-9da2-a18f534563bd",
   "metadata": {},
   "outputs": [
    {
     "data": {
      "text/plain": [
       "array(['Group', 'Playoff', 'Final'], dtype=object)"
      ]
     },
     "execution_count": 20,
     "metadata": {},
     "output_type": "execute_result"
    }
   ],
   "source": [
    "df['stage'].unique()"
   ]
  },
  {
   "cell_type": "markdown",
   "id": "7107d31a-e007-4819-8718-46ac86c3590a",
   "metadata": {},
   "source": [
    "Q. Which team scored the highest first innings score?"
   ]
  },
  {
   "cell_type": "code",
   "execution_count": 21,
   "id": "8e03c2a5-1f0a-489c-b004-1fee391311b2",
   "metadata": {},
   "outputs": [],
   "source": [
    "df['firstbatting_team'] = df.apply(\n",
    "    lambda row: row['team2'] if row['toss_winner'] == row['team1'] and row['toss_decision'] == 'field'\n",
    "                else row['team1'] if row['toss_winner'] == row['team2'] and row['toss_decision'] == 'field'\n",
    "                else row['toss_winner'],\n",
    "    axis=1\n",
    ")\n"
   ]
  },
  {
   "cell_type": "code",
   "execution_count": 22,
   "id": "1f854e3f-adb4-4260-ae47-66ea2eff6454",
   "metadata": {},
   "outputs": [
    {
     "data": {
      "text/html": [
       "<div>\n",
       "<style scoped>\n",
       "    .dataframe tbody tr th:only-of-type {\n",
       "        vertical-align: middle;\n",
       "    }\n",
       "\n",
       "    .dataframe tbody tr th {\n",
       "        vertical-align: top;\n",
       "    }\n",
       "\n",
       "    .dataframe thead th {\n",
       "        text-align: right;\n",
       "    }\n",
       "</style>\n",
       "<table border=\"1\" class=\"dataframe\">\n",
       "  <thead>\n",
       "    <tr style=\"text-align: right;\">\n",
       "      <th></th>\n",
       "      <th>first_ings_score</th>\n",
       "      <th>firstbatting_team</th>\n",
       "    </tr>\n",
       "  </thead>\n",
       "  <tbody>\n",
       "    <tr>\n",
       "      <th>33</th>\n",
       "      <td>222</td>\n",
       "      <td>Delhi</td>\n",
       "    </tr>\n",
       "    <tr>\n",
       "      <th>29</th>\n",
       "      <td>217</td>\n",
       "      <td>Kolkata</td>\n",
       "    </tr>\n",
       "    <tr>\n",
       "      <th>21</th>\n",
       "      <td>216</td>\n",
       "      <td>Banglore</td>\n",
       "    </tr>\n",
       "    <tr>\n",
       "      <th>18</th>\n",
       "      <td>215</td>\n",
       "      <td>Kolkata</td>\n",
       "    </tr>\n",
       "    <tr>\n",
       "      <th>6</th>\n",
       "      <td>210</td>\n",
       "      <td>Lucknow</td>\n",
       "    </tr>\n",
       "    <tr>\n",
       "      <th>65</th>\n",
       "      <td>210</td>\n",
       "      <td>Lucknow</td>\n",
       "    </tr>\n",
       "    <tr>\n",
       "      <th>4</th>\n",
       "      <td>210</td>\n",
       "      <td>Hyderabad</td>\n",
       "    </tr>\n",
       "    <tr>\n",
       "      <th>59</th>\n",
       "      <td>209</td>\n",
       "      <td>Banglore</td>\n",
       "    </tr>\n",
       "    <tr>\n",
       "      <th>54</th>\n",
       "      <td>208</td>\n",
       "      <td>Delhi</td>\n",
       "    </tr>\n",
       "    <tr>\n",
       "      <th>49</th>\n",
       "      <td>207</td>\n",
       "      <td>Hyderabad</td>\n",
       "    </tr>\n",
       "  </tbody>\n",
       "</table>\n",
       "</div>"
      ],
      "text/plain": [
       "    first_ings_score firstbatting_team\n",
       "33               222             Delhi\n",
       "29               217           Kolkata\n",
       "21               216          Banglore\n",
       "18               215           Kolkata\n",
       "6                210           Lucknow\n",
       "65               210           Lucknow\n",
       "4                210         Hyderabad\n",
       "59               209          Banglore\n",
       "54               208             Delhi\n",
       "49               207         Hyderabad"
      ]
     },
     "execution_count": 22,
     "metadata": {},
     "output_type": "execute_result"
    }
   ],
   "source": [
    "df.sort_values(\"first_ings_score\",ascending=False).head(10)[['first_ings_score','firstbatting_team']]"
   ]
  },
  {
   "cell_type": "markdown",
   "id": "0806237c-f04a-4bcb-b53f-f79a74d2a2fa",
   "metadata": {},
   "source": [
    "Which player had the highest individual score (top_scorer)?"
   ]
  },
  {
   "cell_type": "code",
   "execution_count": 23,
   "id": "22b41ac3-42cf-4887-b425-ee88210ec99b",
   "metadata": {},
   "outputs": [
    {
     "data": {
      "text/plain": [
       "top_scorer\n",
       "Quinton de Kock    140\n",
       "Jos Buttler        116\n",
       "Rajat Patidar      112\n",
       "KL Rahul           103\n",
       "Ruturaj Gaikwad     99\n",
       "Name: highscore, dtype: int64"
      ]
     },
     "execution_count": 23,
     "metadata": {},
     "output_type": "execute_result"
    }
   ],
   "source": [
    "df.groupby(\"top_scorer\")['highscore'].max().sort_values(ascending=False).head(5)"
   ]
  },
  {
   "cell_type": "markdown",
   "id": "498febdc-4276-4953-b1b6-aadfa2c70e59",
   "metadata": {},
   "source": [
    " Who had the best bowling performance (best_bowling)?"
   ]
  },
  {
   "cell_type": "code",
   "execution_count": 24,
   "id": "dbffd18e-30fd-4709-979f-1b7411b9fa1b",
   "metadata": {},
   "outputs": [],
   "source": [
    "df[['best_bowling_wickets','best_bowling_runs']]=df['best_bowling_figure'].apply(lambda x: pd.Series(x.split('--'))).astype(int)\n",
    "purplecap=df.sort_values(['best_bowling_wickets','best_bowling_runs'],ascending=[False,True]).head()"
   ]
  },
  {
   "cell_type": "code",
   "execution_count": 25,
   "id": "3fad9e9d-144b-455a-bff1-49256524b8db",
   "metadata": {},
   "outputs": [
    {
     "data": {
      "text/html": [
       "<div>\n",
       "<style scoped>\n",
       "    .dataframe tbody tr th:only-of-type {\n",
       "        vertical-align: middle;\n",
       "    }\n",
       "\n",
       "    .dataframe tbody tr th {\n",
       "        vertical-align: top;\n",
       "    }\n",
       "\n",
       "    .dataframe thead th {\n",
       "        text-align: right;\n",
       "    }\n",
       "</style>\n",
       "<table border=\"1\" class=\"dataframe\">\n",
       "  <thead>\n",
       "    <tr style=\"text-align: right;\">\n",
       "      <th></th>\n",
       "      <th>match_id</th>\n",
       "      <th>date</th>\n",
       "      <th>venue</th>\n",
       "      <th>team1</th>\n",
       "      <th>team2</th>\n",
       "      <th>stage</th>\n",
       "      <th>toss_winner</th>\n",
       "      <th>toss_decision</th>\n",
       "      <th>first_ings_score</th>\n",
       "      <th>first_ings_wkts</th>\n",
       "      <th>...</th>\n",
       "      <th>won_by</th>\n",
       "      <th>margin</th>\n",
       "      <th>player_of_the_match</th>\n",
       "      <th>top_scorer</th>\n",
       "      <th>highscore</th>\n",
       "      <th>best_bowling</th>\n",
       "      <th>best_bowling_figure</th>\n",
       "      <th>firstbatting_team</th>\n",
       "      <th>best_bowling_wickets</th>\n",
       "      <th>best_bowling_runs</th>\n",
       "    </tr>\n",
       "  </thead>\n",
       "  <tbody>\n",
       "    <tr>\n",
       "      <th>55</th>\n",
       "      <td>56</td>\n",
       "      <td>May 9,2022</td>\n",
       "      <td>Dr DY Patil Sports Academy, Mumbai</td>\n",
       "      <td>Kolkata</td>\n",
       "      <td>Mumbai</td>\n",
       "      <td>Group</td>\n",
       "      <td>Mumbai</td>\n",
       "      <td>Field</td>\n",
       "      <td>165</td>\n",
       "      <td>9</td>\n",
       "      <td>...</td>\n",
       "      <td>Runs</td>\n",
       "      <td>52</td>\n",
       "      <td>Jasprit Bumrah</td>\n",
       "      <td>Ishan Kishan</td>\n",
       "      <td>51</td>\n",
       "      <td>Jasprit Bumrah</td>\n",
       "      <td>5--10</td>\n",
       "      <td>Mumbai</td>\n",
       "      <td>5</td>\n",
       "      <td>10</td>\n",
       "    </tr>\n",
       "    <tr>\n",
       "      <th>53</th>\n",
       "      <td>54</td>\n",
       "      <td>May 8,2022</td>\n",
       "      <td>Wankhede Stadium, Mumbai</td>\n",
       "      <td>Banglore</td>\n",
       "      <td>Hyderabad</td>\n",
       "      <td>Group</td>\n",
       "      <td>Banglore</td>\n",
       "      <td>Bat</td>\n",
       "      <td>192</td>\n",
       "      <td>3</td>\n",
       "      <td>...</td>\n",
       "      <td>Runs</td>\n",
       "      <td>67</td>\n",
       "      <td>Wanindu Hasaranga</td>\n",
       "      <td>Faf du Plessis</td>\n",
       "      <td>73</td>\n",
       "      <td>Wanindu Hasaranga</td>\n",
       "      <td>5--18</td>\n",
       "      <td>Banglore</td>\n",
       "      <td>5</td>\n",
       "      <td>18</td>\n",
       "    </tr>\n",
       "    <tr>\n",
       "      <th>39</th>\n",
       "      <td>40</td>\n",
       "      <td>April 27,2022</td>\n",
       "      <td>Wankhede Stadium, Mumbai</td>\n",
       "      <td>Gujarat</td>\n",
       "      <td>Hyderabad</td>\n",
       "      <td>Group</td>\n",
       "      <td>Gujarat</td>\n",
       "      <td>Field</td>\n",
       "      <td>195</td>\n",
       "      <td>6</td>\n",
       "      <td>...</td>\n",
       "      <td>Wickets</td>\n",
       "      <td>5</td>\n",
       "      <td>Umran Malik</td>\n",
       "      <td>W. Saha</td>\n",
       "      <td>68</td>\n",
       "      <td>Umran Malik</td>\n",
       "      <td>5--25</td>\n",
       "      <td>Gujarat</td>\n",
       "      <td>5</td>\n",
       "      <td>25</td>\n",
       "    </tr>\n",
       "    <tr>\n",
       "      <th>29</th>\n",
       "      <td>30</td>\n",
       "      <td>April 18,2022</td>\n",
       "      <td>Brabourne Stadium, Mumbai</td>\n",
       "      <td>Kolkata</td>\n",
       "      <td>Rajasthan</td>\n",
       "      <td>Group</td>\n",
       "      <td>Kolkata</td>\n",
       "      <td>Field</td>\n",
       "      <td>217</td>\n",
       "      <td>5</td>\n",
       "      <td>...</td>\n",
       "      <td>Runs</td>\n",
       "      <td>7</td>\n",
       "      <td>Yuzvendra Chahal</td>\n",
       "      <td>Jos Buttler</td>\n",
       "      <td>103</td>\n",
       "      <td>Yuzvendra Chahal</td>\n",
       "      <td>5--40</td>\n",
       "      <td>Kolkata</td>\n",
       "      <td>5</td>\n",
       "      <td>40</td>\n",
       "    </tr>\n",
       "    <tr>\n",
       "      <th>34</th>\n",
       "      <td>35</td>\n",
       "      <td>April 23,2022</td>\n",
       "      <td>Dr DY Patil Sports Academy, Mumbai</td>\n",
       "      <td>Gujarat</td>\n",
       "      <td>Kolkata</td>\n",
       "      <td>Group</td>\n",
       "      <td>Gujarat</td>\n",
       "      <td>Bat</td>\n",
       "      <td>156</td>\n",
       "      <td>9</td>\n",
       "      <td>...</td>\n",
       "      <td>Runs</td>\n",
       "      <td>8</td>\n",
       "      <td>Rashid Khan</td>\n",
       "      <td>Hardik Pandya</td>\n",
       "      <td>67</td>\n",
       "      <td>Andre Russell</td>\n",
       "      <td>4--5</td>\n",
       "      <td>Gujarat</td>\n",
       "      <td>4</td>\n",
       "      <td>5</td>\n",
       "    </tr>\n",
       "  </tbody>\n",
       "</table>\n",
       "<p>5 rows × 23 columns</p>\n",
       "</div>"
      ],
      "text/plain": [
       "    match_id           date                               venue     team1  \\\n",
       "55        56     May 9,2022  Dr DY Patil Sports Academy, Mumbai   Kolkata   \n",
       "53        54     May 8,2022            Wankhede Stadium, Mumbai  Banglore   \n",
       "39        40  April 27,2022            Wankhede Stadium, Mumbai   Gujarat   \n",
       "29        30  April 18,2022           Brabourne Stadium, Mumbai   Kolkata   \n",
       "34        35  April 23,2022  Dr DY Patil Sports Academy, Mumbai   Gujarat   \n",
       "\n",
       "        team2  stage toss_winner toss_decision  first_ings_score  \\\n",
       "55     Mumbai  Group      Mumbai         Field               165   \n",
       "53  Hyderabad  Group    Banglore           Bat               192   \n",
       "39  Hyderabad  Group     Gujarat         Field               195   \n",
       "29  Rajasthan  Group     Kolkata         Field               217   \n",
       "34    Kolkata  Group     Gujarat           Bat               156   \n",
       "\n",
       "    first_ings_wkts  ...   won_by  margin player_of_the_match      top_scorer  \\\n",
       "55                9  ...     Runs      52      Jasprit Bumrah    Ishan Kishan   \n",
       "53                3  ...     Runs      67   Wanindu Hasaranga  Faf du Plessis   \n",
       "39                6  ...  Wickets       5         Umran Malik         W. Saha   \n",
       "29                5  ...     Runs       7    Yuzvendra Chahal     Jos Buttler   \n",
       "34                9  ...     Runs       8         Rashid Khan   Hardik Pandya   \n",
       "\n",
       "    highscore       best_bowling best_bowling_figure  firstbatting_team  \\\n",
       "55         51     Jasprit Bumrah               5--10             Mumbai   \n",
       "53         73  Wanindu Hasaranga               5--18           Banglore   \n",
       "39         68        Umran Malik               5--25            Gujarat   \n",
       "29        103   Yuzvendra Chahal               5--40            Kolkata   \n",
       "34         67      Andre Russell                4--5            Gujarat   \n",
       "\n",
       "   best_bowling_wickets best_bowling_runs  \n",
       "55                    5                10  \n",
       "53                    5                18  \n",
       "39                    5                25  \n",
       "29                    5                40  \n",
       "34                    4                 5  \n",
       "\n",
       "[5 rows x 23 columns]"
      ]
     },
     "execution_count": 25,
     "metadata": {},
     "output_type": "execute_result"
    }
   ],
   "source": [
    "purplecap"
   ]
  },
  {
   "cell_type": "markdown",
   "id": "a30e7987-ec9f-47b1-b1d7-4759c7922f14",
   "metadata": {},
   "source": [
    "What is the average margin of victory (by runs or wickets)?"
   ]
  },
  {
   "cell_type": "code",
   "execution_count": 26,
   "id": "00d1e9e1-4ed6-43a8-ae6e-d55729a04a7d",
   "metadata": {},
   "outputs": [],
   "source": [
    "avg_winning_byruns=df.query('`won_by`==\"Runs\" ')['margin'].mean()"
   ]
  },
  {
   "cell_type": "code",
   "execution_count": 27,
   "id": "aa228d6f-56cc-4806-bc48-53696a319345",
   "metadata": {},
   "outputs": [
    {
     "data": {
      "text/plain": [
       "np.float64(27.945945945945947)"
      ]
     },
     "execution_count": 27,
     "metadata": {},
     "output_type": "execute_result"
    }
   ],
   "source": [
    "avg_winning_byruns"
   ]
  },
  {
   "cell_type": "code",
   "execution_count": 28,
   "id": "4d224df5-03e6-4305-a64d-5337ef81565a",
   "metadata": {},
   "outputs": [],
   "source": [
    "avg_winning_bywiks=df.query('`won_by`==\"Wickets\" ')['margin'].mean()"
   ]
  },
  {
   "cell_type": "code",
   "execution_count": 29,
   "id": "41289e5d-e916-469e-aeb7-c2ba4162657d",
   "metadata": {},
   "outputs": [
    {
     "data": {
      "text/plain": [
       "np.float64(6.0)"
      ]
     },
     "execution_count": 29,
     "metadata": {},
     "output_type": "execute_result"
    }
   ],
   "source": [
    "avg_winning_bywiks"
   ]
  },
  {
   "cell_type": "markdown",
   "id": "179661bf-84e6-4681-905f-8540d2f4e858",
   "metadata": {},
   "source": [
    "How often does winning the toss lead to winning the match?"
   ]
  },
  {
   "cell_type": "code",
   "execution_count": 30,
   "id": "b61f2f20-ded0-46f3-a68e-372d83bc62f4",
   "metadata": {},
   "outputs": [
    {
     "data": {
      "text/plain": [
       "48.648648648648646"
      ]
     },
     "execution_count": 30,
     "metadata": {},
     "output_type": "execute_result"
    }
   ],
   "source": [
    "prt=df.query(\"toss_winner==match_winner\").shape[0]\n",
    "total_matches=df.shape[0]\n",
    "percentage=prt*100/total_matches\n",
    "percentage"
   ]
  },
  {
   "cell_type": "markdown",
   "id": "e0cd33f9-b67c-4ff4-97f8-8c2204535353",
   "metadata": {},
   "source": [
    "What are the most common toss decisions across stages?"
   ]
  },
  {
   "cell_type": "code",
   "execution_count": 31,
   "id": "c4ec638c-dae1-445f-b5f5-f17732718e54",
   "metadata": {},
   "outputs": [
    {
     "data": {
      "text/plain": [
       "Text(0.5, 1.0, 'Common-toss-decisions')"
      ]
     },
     "execution_count": 31,
     "metadata": {},
     "output_type": "execute_result"
    },
    {
     "data": {
      "image/png": "[encoded data removed]",
      "text/plain": [
       "<Figure size 640x480 with 1 Axes>"
      ]
     },
     "metadata": {},
     "output_type": "display_data"
    }
   ],
   "source": [
    "sns.countplot(x=df['toss_decision'],palette='dark')\n",
    "plt.title(\"Common-toss-decisions\")"
   ]
  },
  {
   "cell_type": "markdown",
   "id": "a1313fc3-b37c-4f2f-a72a-60a5a93cdf0f",
   "metadata": {},
   "source": [
    "Is there a trend in match winners based on toss decision (bat/field)?"
   ]
  },
  {
   "cell_type": "code",
   "execution_count": 32,
   "id": "10fa1bb5-3613-47ff-b6c4-f5f61d3c5b61",
   "metadata": {},
   "outputs": [],
   "source": [
    "field_wins=df.query(\"toss_winner==match_winner and toss_decision=='Field'\").shape[0]\n",
    "bat_wins=df.query(\"toss_winner==match_winner and toss_decision=='Bat'\").shape[0]"
   ]
  },
  {
   "cell_type": "code",
   "execution_count": 33,
   "id": "bb22111b-730c-4f4c-a6d3-a6d02f0264fe",
   "metadata": {},
   "outputs": [
    {
     "name": "stdout",
     "output_type": "stream",
     "text": [
      "The matches in which team won by choosing fields are 29.\n",
      "The matches in which team won by choosing bat are 7.\n"
     ]
    }
   ],
   "source": [
    "print(f\"The matches in which team won by choosing fields are {field_wins}.\")\n",
    "print(f\"The matches in which team won by choosing bat are {bat_wins}.\")"
   ]
  },
  {
   "cell_type": "markdown",
   "id": "b4d45820-cd3b-48c6-a01e-ae2a7a5379e0",
   "metadata": {},
   "source": [
    "How has the total score changed over time?"
   ]
  },
  {
   "cell_type": "code",
   "execution_count": 34,
   "id": "a7e2ad50-d973-4395-8fb3-59c613af1628",
   "metadata": {},
   "outputs": [
    {
     "data": {
      "text/plain": [
       "<Axes: xlabel='match_id', ylabel='combined_score'>"
      ]
     },
     "execution_count": 34,
     "metadata": {},
     "output_type": "execute_result"
    },
    {
     "data": {
      "image/png": "[encoded data removed]",
      "text/plain": [
       "<Figure size 1000x1000 with 1 Axes>"
      ]
     },
     "metadata": {},
     "output_type": "display_data"
    }
   ],
   "source": [
    "df['combined_score']=df['first_ings_score']+df['second_ings_score']\n",
    "fig=plt.figure(figsize=(10,10))\n",
    "sns.barplot(x='match_id',y='combined_score',palette='magma',data=df)"
   ]
  },
  {
   "cell_type": "markdown",
   "id": "b5abc916-6952-4493-b8ad-bf1cde4b58e5",
   "metadata": {},
   "source": [
    "Do teams prefer chasing or setting targets in different venues?"
   ]
  },
  {
   "cell_type": "code",
   "execution_count": 35,
   "id": "e84c0173-027e-448f-b4a8-ccf4ecc3b187",
   "metadata": {},
   "outputs": [],
   "source": [
    "trend=df.groupby(\"venue\")['toss_decision'].value_counts()"
   ]
  },
  {
   "cell_type": "code",
   "execution_count": 36,
   "id": "6c8910a2-b62c-4ec4-800f-bb6c5efcc1b8",
   "metadata": {},
   "outputs": [
    {
     "data": {
      "text/plain": [
       "venue                                         toss_decision\n",
       "Brabourne Stadium, Mumbai                     Field            13\n",
       "                                              Bat               3\n",
       "Dr DY Patil Sports Academy, Mumbai            Field            17\n",
       "                                              Bat               3\n",
       "Eden Gardens, Kolkata                         Field             2\n",
       "Maharashtra Cricket Association Stadium,Pune  Field            11\n",
       "                                              Bat               2\n",
       "Narendra Modi Stadium, Ahmedabad              Bat               1\n",
       "                                              Field             1\n",
       "Wankhede Stadium, Mumbai                      Field            15\n",
       "                                              Bat               6\n",
       "Name: count, dtype: int64"
      ]
     },
     "execution_count": 36,
     "metadata": {},
     "output_type": "execute_result"
    }
   ],
   "source": [
    "trend"
   ]
  },
  {
   "cell_type": "markdown",
   "id": "1bef0daa-99e7-4820-b834-a5bccee8ae5f",
   "metadata": {},
   "source": [
    "Are certain venues more favorable to batting or bowling first?"
   ]
  },
  {
   "cell_type": "code",
   "execution_count": 37,
   "id": "25cb0c9d-4f6e-43b7-bcf6-9a4c38d4ca7f",
   "metadata": {},
   "outputs": [
    {
     "data": {
      "text/plain": [
       "venue\n",
       "Brabourne Stadium, Mumbai                       Field\n",
       "Dr DY Patil Sports Academy, Mumbai              Field\n",
       "Eden Gardens, Kolkata                           Field\n",
       "Maharashtra Cricket Association Stadium,Pune    Field\n",
       "Narendra Modi Stadium, Ahmedabad                Field\n",
       "Wankhede Stadium, Mumbai                        Field\n",
       "Name: toss_decision, dtype: object"
      ]
     },
     "execution_count": 37,
     "metadata": {},
     "output_type": "execute_result"
    }
   ],
   "source": [
    "df.groupby(\"venue\")['toss_decision'].max()"
   ]
  },
  {
   "cell_type": "markdown",
   "id": "e61f104d-c3d5-4df7-951d-734219658f3e",
   "metadata": {},
   "source": [
    "Which months had the most matches?"
   ]
  },
  {
   "cell_type": "code",
   "execution_count": 38,
   "id": "e2a49be1-cc21-4ffc-b1ce-a00e2ca5c15f",
   "metadata": {},
   "outputs": [],
   "source": [
    "df[df['date']=='April11,2022']='April' # there was an error in data."
   ]
  },
  {
   "cell_type": "code",
   "execution_count": 39,
   "id": "df192791-f070-491e-b9ef-6286fb15eaa2",
   "metadata": {},
   "outputs": [
    {
     "data": {
      "text/plain": [
       "<Axes: xlabel='month', ylabel='count'>"
      ]
     },
     "execution_count": 39,
     "metadata": {},
     "output_type": "execute_result"
    },
    {
     "data": {
      "image/png": "[encoded data removed]",
      "text/plain": [
       "<Figure size 640x480 with 1 Axes>"
      ]
     },
     "metadata": {},
     "output_type": "display_data"
    }
   ],
   "source": [
    "df['month']=df['date'].apply(lambda x: pd.Series(x.split(' ')[0]))\n",
    "sns.countplot(x=df['month'],palette='viridis')"
   ]
  },
  {
   "cell_type": "markdown",
   "id": "5a2029f5-c2e6-492b-8088-db9ebbe2d219",
   "metadata": {},
   "source": [
    "Are finals usually high scoring compared to group stages?"
   ]
  },
  {
   "cell_type": "code",
   "execution_count": 51,
   "id": "a69fcae1-8b72-45c7-836d-9b5ee02cdd33",
   "metadata": {},
   "outputs": [],
   "source": [
    "df.query(\" `second_ings_score`=='April'\")# this data is making problem.somehow it is affected during anaslysis.\n",
    "df.loc[20]={\n",
    "    'match_id': 'April',  # Or use a real ID if needed\n",
    "    'date': 'April 10, 2022',\n",
    "    'venue': 'Wankhede Stadium, Mumbai',\n",
    "    'team1': 'Lucknow',\n",
    "    'team2': 'Rajasthan',\n",
    "    'stage': 'Group',\n",
    "    'toss_winner': 'Lucknow',\n",
    "    'toss_decision': 'Field',\n",
    "    'first_ings_score': 165,\n",
    "    'first_ings_wkts': 6,\n",
    "    'second_ings_score': 162,\n",
    "    'second_ings_wkts': 8,\n",
    "    'match_winner': 'Rajasthan',\n",
    "    'won_by': 'Runs',\n",
    "    'margin': 3,\n",
    "    'player_of_the_match': 'Yuzvendra Chahal',\n",
    "    'top_scorer': 'Shimron Hetmyer',\n",
    "    'highscore': 59,\n",
    "    'best_bowling': 'Yuzvendra Chahal',\n",
    "    'best_bowling_figure':'4--41',\n",
    "    'firstbatting_team': 'Rajasthan',  # Because Lucknow chose to field\n",
    "    'best_bowling_wickets': 4,\n",
    "    'best_bowling_runs': 41,\n",
    "    'combined_score': 165 + 162,\n",
    "    'month': 'April'    \n",
    "}"
   ]
  },
  {
   "cell_type": "code",
   "execution_count": 60,
   "id": "dfac58c8-493d-456f-8090-94b688cdc459",
   "metadata": {},
   "outputs": [
    {
     "data": {
      "text/plain": [
       "np.float64(164.5142857142857)"
      ]
     },
     "execution_count": 60,
     "metadata": {},
     "output_type": "execute_result"
    }
   ],
   "source": [
    "avg=(df[df['stage']=='Group']['combined_score'].mean())/2\n",
    "avg"
   ]
  },
  {
   "cell_type": "code",
   "execution_count": 58,
   "id": "d2cd0093-b17b-49a1-b33a-bfbc6c0226d2",
   "metadata": {},
   "outputs": [
    {
     "data": {
      "text/plain": [
       "array(['Group', 'Playoff', 'Final'], dtype=object)"
      ]
     },
     "execution_count": 58,
     "metadata": {},
     "output_type": "execute_result"
    }
   ],
   "source": [
    "df['stage'].unique()"
   ]
  },
  {
   "cell_type": "code",
   "execution_count": 62,
   "id": "7ecde5a3-6034-422b-ab2d-1c8091e1ba9f",
   "metadata": {},
   "outputs": [
    {
     "data": {
      "text/plain": [
       "np.float64(131.5)"
      ]
     },
     "execution_count": 62,
     "metadata": {},
     "output_type": "execute_result"
    }
   ],
   "source": [
    "final_score=(df[df['stage']=='Final']['combined_score'].mean())/2\n",
    "final_score"
   ]
  },
  {
   "cell_type": "markdown",
   "id": "1f3b3787-715e-4801-9440-a8f803acf8cb",
   "metadata": {},
   "source": [
    "Compare the performance of team1 and team2"
   ]
  },
  {
   "cell_type": "code",
   "execution_count": 63,
   "id": "0c5e8661-5a42-430b-a765-d078d53f272f",
   "metadata": {},
   "outputs": [
    {
     "name": "stdout",
     "output_type": "stream",
     "text": [
      "Team1 Wins: 37\n",
      "Team2 Wins: 37\n"
     ]
    }
   ],
   "source": [
    "team1_wins = (df['match_winner'] == df['team1']).sum()\n",
    "team2_wins = (df['match_winner'] == df['team2']).sum()\n",
    "\n",
    "print(f\"Team1 Wins: {team1_wins}\")\n",
    "print(f\"Team2 Wins: {team2_wins}\")"
   ]
  },
  {
   "cell_type": "code",
   "execution_count": 65,
   "id": "6f54c616-8978-4321-b93f-9e7c73fcc7fd",
   "metadata": {},
   "outputs": [
    {
     "name": "stdout",
     "output_type": "stream",
     "text": [
      "Team1 win %: 50.00%\n",
      "Team2 win %: 50.00%\n"
     ]
    }
   ],
   "source": [
    "total_matches = len(df)\n",
    "team1_win_pct = (team1_wins / total_matches) * 100\n",
    "team2_win_pct = (team2_wins / total_matches) * 100\n",
    "\n",
    "print(f\"Team1 win %: {team1_win_pct:.2f}%\")\n",
    "print(f\"Team2 win %: {team2_win_pct:.2f}%\")"
   ]
  },
  {
   "cell_type": "markdown",
   "id": "88f90f57-afd6-4195-892e-16f951a3718d",
   "metadata": {},
   "source": [
    "Which player has consistently performed (in both top_scorer and player_of_the_match)?"
   ]
  },
  {
   "cell_type": "code",
   "execution_count": 76,
   "id": "e603ec0f-ec4a-49bb-852d-66dc8c9dfb66",
   "metadata": {},
   "outputs": [],
   "source": [
    "top_player=df[df['top_scorer']==df['player_of_the_match']]['top_scorer'].value_counts().head(10)"
   ]
  },
  {
   "cell_type": "code",
   "execution_count": 82,
   "id": "11f64942-3280-4337-9594-9e27ac8bfcb6",
   "metadata": {},
   "outputs": [
    {
     "data": {
      "text/plain": [
       "Text(0, 0.5, 'Players')"
      ]
     },
     "execution_count": 82,
     "metadata": {},
     "output_type": "execute_result"
    },
    {
     "data": {
      "image/png": "[encoded data removed]",
      "text/plain": [
       "<Figure size 640x480 with 1 Axes>"
      ]
     },
     "metadata": {},
     "output_type": "display_data"
    }
   ],
   "source": [
    "sns.barplot(x=top_player.values,y=top_player.index,palette='viridis')\n",
    "plt.title(\"Top_scorer and potm\")\n",
    "plt.ylabel(\"Players\")"
   ]
  },
  {
   "cell_type": "markdown",
   "id": "2fd06235-0541-4909-ad63-2099877d6f6f",
   "metadata": {},
   "source": [
    "Which team has won by the biggest margin?"
   ]
  },
  {
   "cell_type": "code",
   "execution_count": 91,
   "id": "33e45f26-bd11-4824-9e6b-bed5fa478857",
   "metadata": {},
   "outputs": [
    {
     "data": {
      "text/html": [
       "<div>\n",
       "<style scoped>\n",
       "    .dataframe tbody tr th:only-of-type {\n",
       "        vertical-align: middle;\n",
       "    }\n",
       "\n",
       "    .dataframe tbody tr th {\n",
       "        vertical-align: top;\n",
       "    }\n",
       "\n",
       "    .dataframe thead th {\n",
       "        text-align: right;\n",
       "    }\n",
       "</style>\n",
       "<table border=\"1\" class=\"dataframe\">\n",
       "  <thead>\n",
       "    <tr style=\"text-align: right;\">\n",
       "      <th></th>\n",
       "      <th>match_winner</th>\n",
       "      <th>won_by</th>\n",
       "      <th>margin</th>\n",
       "    </tr>\n",
       "  </thead>\n",
       "  <tbody>\n",
       "    <tr>\n",
       "      <th>54</th>\n",
       "      <td>Chennai</td>\n",
       "      <td>Runs</td>\n",
       "      <td>91</td>\n",
       "    </tr>\n",
       "    <tr>\n",
       "      <th>52</th>\n",
       "      <td>Lucknow</td>\n",
       "      <td>Runs</td>\n",
       "      <td>75</td>\n",
       "    </tr>\n",
       "    <tr>\n",
       "      <th>53</th>\n",
       "      <td>Banglore</td>\n",
       "      <td>Runs</td>\n",
       "      <td>67</td>\n",
       "    </tr>\n",
       "    <tr>\n",
       "      <th>56</th>\n",
       "      <td>Gujarat</td>\n",
       "      <td>Runs</td>\n",
       "      <td>62</td>\n",
       "    </tr>\n",
       "    <tr>\n",
       "      <th>4</th>\n",
       "      <td>Rajasthan</td>\n",
       "      <td>Runs</td>\n",
       "      <td>61</td>\n",
       "    </tr>\n",
       "  </tbody>\n",
       "</table>\n",
       "</div>"
      ],
      "text/plain": [
       "   match_winner won_by margin\n",
       "54      Chennai   Runs     91\n",
       "52      Lucknow   Runs     75\n",
       "53     Banglore   Runs     67\n",
       "56      Gujarat   Runs     62\n",
       "4     Rajasthan   Runs     61"
      ]
     },
     "execution_count": 91,
     "metadata": {},
     "output_type": "execute_result"
    }
   ],
   "source": [
    "df[df['won_by']=='Runs'].sort_values(\"margin\",ascending=False)[['match_winner','won_by','margin']].head()"
   ]
  },
  {
   "cell_type": "markdown",
   "id": "05cf1de4-1a5d-48d4-8a8c-627ce3764cb9",
   "metadata": {},
   "source": [
    " Advanced/Group Analysis"
   ]
  },
  {
   "cell_type": "markdown",
   "id": "3c1ab7ca-755a-4a06-9762-72da3073fcbd",
   "metadata": {},
   "source": [
    "Group matches by venue and analyze win percentages"
   ]
  },
  {
   "cell_type": "code",
   "execution_count": 93,
   "id": "e6438c19-9c9d-46c3-ab6b-867118942375",
   "metadata": {},
   "outputs": [
    {
     "data": {
      "text/plain": [
       "venue\n",
       "Wankhede Stadium, Mumbai                        22\n",
       "Dr DY Patil Sports Academy, Mumbai              19\n",
       "Brabourne Stadium, Mumbai                       16\n",
       "Maharashtra Cricket Association Stadium,Pune    13\n",
       "Eden Gardens, Kolkata                            2\n",
       "Narendra Modi Stadium, Ahmedabad                 2\n",
       "Name: count, dtype: int64"
      ]
     },
     "execution_count": 93,
     "metadata": {},
     "output_type": "execute_result"
    }
   ],
   "source": [
    "matches_per_venue = df['venue'].value_counts()\n",
    "matches_per_venue"
   ]
  },
  {
   "cell_type": "code",
   "execution_count": 96,
   "id": "35d118b9-beac-45d6-ac30-81a63e8c5b80",
   "metadata": {},
   "outputs": [
    {
     "data": {
      "text/html": [
       "<div>\n",
       "<style scoped>\n",
       "    .dataframe tbody tr th:only-of-type {\n",
       "        vertical-align: middle;\n",
       "    }\n",
       "\n",
       "    .dataframe tbody tr th {\n",
       "        vertical-align: top;\n",
       "    }\n",
       "\n",
       "    .dataframe thead th {\n",
       "        text-align: right;\n",
       "    }\n",
       "</style>\n",
       "<table border=\"1\" class=\"dataframe\">\n",
       "  <thead>\n",
       "    <tr style=\"text-align: right;\">\n",
       "      <th></th>\n",
       "      <th>venue</th>\n",
       "      <th>match_winner</th>\n",
       "      <th>wins</th>\n",
       "    </tr>\n",
       "  </thead>\n",
       "  <tbody>\n",
       "    <tr>\n",
       "      <th>0</th>\n",
       "      <td>Brabourne Stadium, Mumbai</td>\n",
       "      <td>Delhi</td>\n",
       "      <td>4</td>\n",
       "    </tr>\n",
       "    <tr>\n",
       "      <th>1</th>\n",
       "      <td>Brabourne Stadium, Mumbai</td>\n",
       "      <td>Gujarat</td>\n",
       "      <td>2</td>\n",
       "    </tr>\n",
       "    <tr>\n",
       "      <th>2</th>\n",
       "      <td>Brabourne Stadium, Mumbai</td>\n",
       "      <td>Hyderabad</td>\n",
       "      <td>2</td>\n",
       "    </tr>\n",
       "    <tr>\n",
       "      <th>3</th>\n",
       "      <td>Brabourne Stadium, Mumbai</td>\n",
       "      <td>Lucknow</td>\n",
       "      <td>2</td>\n",
       "    </tr>\n",
       "    <tr>\n",
       "      <th>4</th>\n",
       "      <td>Brabourne Stadium, Mumbai</td>\n",
       "      <td>Mumbai</td>\n",
       "      <td>1</td>\n",
       "    </tr>\n",
       "    <tr>\n",
       "      <th>5</th>\n",
       "      <td>Brabourne Stadium, Mumbai</td>\n",
       "      <td>Punjab</td>\n",
       "      <td>2</td>\n",
       "    </tr>\n",
       "    <tr>\n",
       "      <th>6</th>\n",
       "      <td>Brabourne Stadium, Mumbai</td>\n",
       "      <td>Rajasthan</td>\n",
       "      <td>3</td>\n",
       "    </tr>\n",
       "    <tr>\n",
       "      <th>7</th>\n",
       "      <td>Dr DY Patil Sports Academy, Mumbai</td>\n",
       "      <td>Banglore</td>\n",
       "      <td>2</td>\n",
       "    </tr>\n",
       "    <tr>\n",
       "      <th>8</th>\n",
       "      <td>Dr DY Patil Sports Academy, Mumbai</td>\n",
       "      <td>Chennai</td>\n",
       "      <td>3</td>\n",
       "    </tr>\n",
       "    <tr>\n",
       "      <th>9</th>\n",
       "      <td>Dr DY Patil Sports Academy, Mumbai</td>\n",
       "      <td>Delhi</td>\n",
       "      <td>2</td>\n",
       "    </tr>\n",
       "    <tr>\n",
       "      <th>10</th>\n",
       "      <td>Dr DY Patil Sports Academy, Mumbai</td>\n",
       "      <td>Gujarat</td>\n",
       "      <td>2</td>\n",
       "    </tr>\n",
       "    <tr>\n",
       "      <th>11</th>\n",
       "      <td>Dr DY Patil Sports Academy, Mumbai</td>\n",
       "      <td>Hyderabad</td>\n",
       "      <td>2</td>\n",
       "    </tr>\n",
       "    <tr>\n",
       "      <th>12</th>\n",
       "      <td>Dr DY Patil Sports Academy, Mumbai</td>\n",
       "      <td>Kolkata</td>\n",
       "      <td>1</td>\n",
       "    </tr>\n",
       "    <tr>\n",
       "      <th>13</th>\n",
       "      <td>Dr DY Patil Sports Academy, Mumbai</td>\n",
       "      <td>Lucknow</td>\n",
       "      <td>3</td>\n",
       "    </tr>\n",
       "    <tr>\n",
       "      <th>14</th>\n",
       "      <td>Dr DY Patil Sports Academy, Mumbai</td>\n",
       "      <td>Mumbai</td>\n",
       "      <td>1</td>\n",
       "    </tr>\n",
       "    <tr>\n",
       "      <th>15</th>\n",
       "      <td>Dr DY Patil Sports Academy, Mumbai</td>\n",
       "      <td>Punjab</td>\n",
       "      <td>2</td>\n",
       "    </tr>\n",
       "    <tr>\n",
       "      <th>16</th>\n",
       "      <td>Dr DY Patil Sports Academy, Mumbai</td>\n",
       "      <td>Rajasthan</td>\n",
       "      <td>1</td>\n",
       "    </tr>\n",
       "    <tr>\n",
       "      <th>17</th>\n",
       "      <td>Eden Gardens, Kolkata</td>\n",
       "      <td>Banglore</td>\n",
       "      <td>1</td>\n",
       "    </tr>\n",
       "    <tr>\n",
       "      <th>18</th>\n",
       "      <td>Eden Gardens, Kolkata</td>\n",
       "      <td>Gujarat</td>\n",
       "      <td>1</td>\n",
       "    </tr>\n",
       "    <tr>\n",
       "      <th>19</th>\n",
       "      <td>Maharashtra Cricket Association Stadium,Pune</td>\n",
       "      <td>Banglore</td>\n",
       "      <td>2</td>\n",
       "    </tr>\n",
       "    <tr>\n",
       "      <th>20</th>\n",
       "      <td>Maharashtra Cricket Association Stadium,Pune</td>\n",
       "      <td>Chennai</td>\n",
       "      <td>1</td>\n",
       "    </tr>\n",
       "    <tr>\n",
       "      <th>21</th>\n",
       "      <td>Maharashtra Cricket Association Stadium,Pune</td>\n",
       "      <td>Gujarat</td>\n",
       "      <td>3</td>\n",
       "    </tr>\n",
       "    <tr>\n",
       "      <th>22</th>\n",
       "      <td>Maharashtra Cricket Association Stadium,Pune</td>\n",
       "      <td>Kolkata</td>\n",
       "      <td>2</td>\n",
       "    </tr>\n",
       "    <tr>\n",
       "      <th>23</th>\n",
       "      <td>Maharashtra Cricket Association Stadium,Pune</td>\n",
       "      <td>Lucknow</td>\n",
       "      <td>2</td>\n",
       "    </tr>\n",
       "    <tr>\n",
       "      <th>24</th>\n",
       "      <td>Maharashtra Cricket Association Stadium,Pune</td>\n",
       "      <td>Punjab</td>\n",
       "      <td>1</td>\n",
       "    </tr>\n",
       "    <tr>\n",
       "      <th>25</th>\n",
       "      <td>Maharashtra Cricket Association Stadium,Pune</td>\n",
       "      <td>Rajasthan</td>\n",
       "      <td>2</td>\n",
       "    </tr>\n",
       "    <tr>\n",
       "      <th>26</th>\n",
       "      <td>Narendra Modi Stadium, Ahmedabad</td>\n",
       "      <td>Gujarat</td>\n",
       "      <td>1</td>\n",
       "    </tr>\n",
       "    <tr>\n",
       "      <th>27</th>\n",
       "      <td>Narendra Modi Stadium, Ahmedabad</td>\n",
       "      <td>Rajasthan</td>\n",
       "      <td>1</td>\n",
       "    </tr>\n",
       "    <tr>\n",
       "      <th>28</th>\n",
       "      <td>Wankhede Stadium, Mumbai</td>\n",
       "      <td>Banglore</td>\n",
       "      <td>4</td>\n",
       "    </tr>\n",
       "    <tr>\n",
       "      <th>29</th>\n",
       "      <td>Wankhede Stadium, Mumbai</td>\n",
       "      <td>Delhi</td>\n",
       "      <td>1</td>\n",
       "    </tr>\n",
       "    <tr>\n",
       "      <th>30</th>\n",
       "      <td>Wankhede Stadium, Mumbai</td>\n",
       "      <td>Gujarat</td>\n",
       "      <td>3</td>\n",
       "    </tr>\n",
       "    <tr>\n",
       "      <th>31</th>\n",
       "      <td>Wankhede Stadium, Mumbai</td>\n",
       "      <td>Hyderabad</td>\n",
       "      <td>1</td>\n",
       "    </tr>\n",
       "    <tr>\n",
       "      <th>32</th>\n",
       "      <td>Wankhede Stadium, Mumbai</td>\n",
       "      <td>Kolkata</td>\n",
       "      <td>3</td>\n",
       "    </tr>\n",
       "    <tr>\n",
       "      <th>33</th>\n",
       "      <td>Wankhede Stadium, Mumbai</td>\n",
       "      <td>Lucknow</td>\n",
       "      <td>2</td>\n",
       "    </tr>\n",
       "    <tr>\n",
       "      <th>34</th>\n",
       "      <td>Wankhede Stadium, Mumbai</td>\n",
       "      <td>Mumbai</td>\n",
       "      <td>2</td>\n",
       "    </tr>\n",
       "    <tr>\n",
       "      <th>35</th>\n",
       "      <td>Wankhede Stadium, Mumbai</td>\n",
       "      <td>Punjab</td>\n",
       "      <td>2</td>\n",
       "    </tr>\n",
       "    <tr>\n",
       "      <th>36</th>\n",
       "      <td>Wankhede Stadium, Mumbai</td>\n",
       "      <td>Rajasthan</td>\n",
       "      <td>4</td>\n",
       "    </tr>\n",
       "  </tbody>\n",
       "</table>\n",
       "</div>"
      ],
      "text/plain": [
       "                                           venue match_winner  wins\n",
       "0                      Brabourne Stadium, Mumbai        Delhi     4\n",
       "1                      Brabourne Stadium, Mumbai      Gujarat     2\n",
       "2                      Brabourne Stadium, Mumbai    Hyderabad     2\n",
       "3                      Brabourne Stadium, Mumbai      Lucknow     2\n",
       "4                      Brabourne Stadium, Mumbai       Mumbai     1\n",
       "5                      Brabourne Stadium, Mumbai       Punjab     2\n",
       "6                      Brabourne Stadium, Mumbai    Rajasthan     3\n",
       "7             Dr DY Patil Sports Academy, Mumbai     Banglore     2\n",
       "8             Dr DY Patil Sports Academy, Mumbai      Chennai     3\n",
       "9             Dr DY Patil Sports Academy, Mumbai        Delhi     2\n",
       "10            Dr DY Patil Sports Academy, Mumbai      Gujarat     2\n",
       "11            Dr DY Patil Sports Academy, Mumbai    Hyderabad     2\n",
       "12            Dr DY Patil Sports Academy, Mumbai      Kolkata     1\n",
       "13            Dr DY Patil Sports Academy, Mumbai      Lucknow     3\n",
       "14            Dr DY Patil Sports Academy, Mumbai       Mumbai     1\n",
       "15            Dr DY Patil Sports Academy, Mumbai       Punjab     2\n",
       "16            Dr DY Patil Sports Academy, Mumbai    Rajasthan     1\n",
       "17                         Eden Gardens, Kolkata     Banglore     1\n",
       "18                         Eden Gardens, Kolkata      Gujarat     1\n",
       "19  Maharashtra Cricket Association Stadium,Pune     Banglore     2\n",
       "20  Maharashtra Cricket Association Stadium,Pune      Chennai     1\n",
       "21  Maharashtra Cricket Association Stadium,Pune      Gujarat     3\n",
       "22  Maharashtra Cricket Association Stadium,Pune      Kolkata     2\n",
       "23  Maharashtra Cricket Association Stadium,Pune      Lucknow     2\n",
       "24  Maharashtra Cricket Association Stadium,Pune       Punjab     1\n",
       "25  Maharashtra Cricket Association Stadium,Pune    Rajasthan     2\n",
       "26              Narendra Modi Stadium, Ahmedabad      Gujarat     1\n",
       "27              Narendra Modi Stadium, Ahmedabad    Rajasthan     1\n",
       "28                      Wankhede Stadium, Mumbai     Banglore     4\n",
       "29                      Wankhede Stadium, Mumbai        Delhi     1\n",
       "30                      Wankhede Stadium, Mumbai      Gujarat     3\n",
       "31                      Wankhede Stadium, Mumbai    Hyderabad     1\n",
       "32                      Wankhede Stadium, Mumbai      Kolkata     3\n",
       "33                      Wankhede Stadium, Mumbai      Lucknow     2\n",
       "34                      Wankhede Stadium, Mumbai       Mumbai     2\n",
       "35                      Wankhede Stadium, Mumbai       Punjab     2\n",
       "36                      Wankhede Stadium, Mumbai    Rajasthan     4"
      ]
     },
     "execution_count": 96,
     "metadata": {},
     "output_type": "execute_result"
    }
   ],
   "source": [
    "wins_by_venue = df.groupby(['venue', 'match_winner']).size().reset_index(name='wins')\n",
    "wins_by_venue"
   ]
  },
  {
   "cell_type": "code",
   "execution_count": 100,
   "id": "97ee410c-1c38-4cd5-9bb9-1972267d89ce",
   "metadata": {},
   "outputs": [
    {
     "data": {
      "text/html": [
       "<div>\n",
       "<style scoped>\n",
       "    .dataframe tbody tr th:only-of-type {\n",
       "        vertical-align: middle;\n",
       "    }\n",
       "\n",
       "    .dataframe tbody tr th {\n",
       "        vertical-align: top;\n",
       "    }\n",
       "\n",
       "    .dataframe thead th {\n",
       "        text-align: right;\n",
       "    }\n",
       "</style>\n",
       "<table border=\"1\" class=\"dataframe\">\n",
       "  <thead>\n",
       "    <tr style=\"text-align: right;\">\n",
       "      <th></th>\n",
       "      <th>venue</th>\n",
       "      <th>match_winner</th>\n",
       "      <th>wins</th>\n",
       "      <th>total_matches</th>\n",
       "      <th>win_percentage</th>\n",
       "    </tr>\n",
       "  </thead>\n",
       "  <tbody>\n",
       "    <tr>\n",
       "      <th>0</th>\n",
       "      <td>Brabourne Stadium, Mumbai</td>\n",
       "      <td>Delhi</td>\n",
       "      <td>4</td>\n",
       "      <td>16</td>\n",
       "      <td>25.000000</td>\n",
       "    </tr>\n",
       "    <tr>\n",
       "      <th>1</th>\n",
       "      <td>Brabourne Stadium, Mumbai</td>\n",
       "      <td>Gujarat</td>\n",
       "      <td>2</td>\n",
       "      <td>16</td>\n",
       "      <td>12.500000</td>\n",
       "    </tr>\n",
       "    <tr>\n",
       "      <th>2</th>\n",
       "      <td>Brabourne Stadium, Mumbai</td>\n",
       "      <td>Hyderabad</td>\n",
       "      <td>2</td>\n",
       "      <td>16</td>\n",
       "      <td>12.500000</td>\n",
       "    </tr>\n",
       "    <tr>\n",
       "      <th>3</th>\n",
       "      <td>Brabourne Stadium, Mumbai</td>\n",
       "      <td>Lucknow</td>\n",
       "      <td>2</td>\n",
       "      <td>16</td>\n",
       "      <td>12.500000</td>\n",
       "    </tr>\n",
       "    <tr>\n",
       "      <th>4</th>\n",
       "      <td>Brabourne Stadium, Mumbai</td>\n",
       "      <td>Mumbai</td>\n",
       "      <td>1</td>\n",
       "      <td>16</td>\n",
       "      <td>6.250000</td>\n",
       "    </tr>\n",
       "    <tr>\n",
       "      <th>5</th>\n",
       "      <td>Brabourne Stadium, Mumbai</td>\n",
       "      <td>Punjab</td>\n",
       "      <td>2</td>\n",
       "      <td>16</td>\n",
       "      <td>12.500000</td>\n",
       "    </tr>\n",
       "    <tr>\n",
       "      <th>6</th>\n",
       "      <td>Brabourne Stadium, Mumbai</td>\n",
       "      <td>Rajasthan</td>\n",
       "      <td>3</td>\n",
       "      <td>16</td>\n",
       "      <td>18.750000</td>\n",
       "    </tr>\n",
       "    <tr>\n",
       "      <th>7</th>\n",
       "      <td>Dr DY Patil Sports Academy, Mumbai</td>\n",
       "      <td>Banglore</td>\n",
       "      <td>2</td>\n",
       "      <td>19</td>\n",
       "      <td>10.526316</td>\n",
       "    </tr>\n",
       "    <tr>\n",
       "      <th>8</th>\n",
       "      <td>Dr DY Patil Sports Academy, Mumbai</td>\n",
       "      <td>Chennai</td>\n",
       "      <td>3</td>\n",
       "      <td>19</td>\n",
       "      <td>15.789474</td>\n",
       "    </tr>\n",
       "    <tr>\n",
       "      <th>9</th>\n",
       "      <td>Dr DY Patil Sports Academy, Mumbai</td>\n",
       "      <td>Delhi</td>\n",
       "      <td>2</td>\n",
       "      <td>19</td>\n",
       "      <td>10.526316</td>\n",
       "    </tr>\n",
       "    <tr>\n",
       "      <th>10</th>\n",
       "      <td>Dr DY Patil Sports Academy, Mumbai</td>\n",
       "      <td>Gujarat</td>\n",
       "      <td>2</td>\n",
       "      <td>19</td>\n",
       "      <td>10.526316</td>\n",
       "    </tr>\n",
       "    <tr>\n",
       "      <th>11</th>\n",
       "      <td>Dr DY Patil Sports Academy, Mumbai</td>\n",
       "      <td>Hyderabad</td>\n",
       "      <td>2</td>\n",
       "      <td>19</td>\n",
       "      <td>10.526316</td>\n",
       "    </tr>\n",
       "    <tr>\n",
       "      <th>12</th>\n",
       "      <td>Dr DY Patil Sports Academy, Mumbai</td>\n",
       "      <td>Kolkata</td>\n",
       "      <td>1</td>\n",
       "      <td>19</td>\n",
       "      <td>5.263158</td>\n",
       "    </tr>\n",
       "    <tr>\n",
       "      <th>13</th>\n",
       "      <td>Dr DY Patil Sports Academy, Mumbai</td>\n",
       "      <td>Lucknow</td>\n",
       "      <td>3</td>\n",
       "      <td>19</td>\n",
       "      <td>15.789474</td>\n",
       "    </tr>\n",
       "    <tr>\n",
       "      <th>14</th>\n",
       "      <td>Dr DY Patil Sports Academy, Mumbai</td>\n",
       "      <td>Mumbai</td>\n",
       "      <td>1</td>\n",
       "      <td>19</td>\n",
       "      <td>5.263158</td>\n",
       "    </tr>\n",
       "    <tr>\n",
       "      <th>15</th>\n",
       "      <td>Dr DY Patil Sports Academy, Mumbai</td>\n",
       "      <td>Punjab</td>\n",
       "      <td>2</td>\n",
       "      <td>19</td>\n",
       "      <td>10.526316</td>\n",
       "    </tr>\n",
       "    <tr>\n",
       "      <th>16</th>\n",
       "      <td>Dr DY Patil Sports Academy, Mumbai</td>\n",
       "      <td>Rajasthan</td>\n",
       "      <td>1</td>\n",
       "      <td>19</td>\n",
       "      <td>5.263158</td>\n",
       "    </tr>\n",
       "    <tr>\n",
       "      <th>17</th>\n",
       "      <td>Eden Gardens, Kolkata</td>\n",
       "      <td>Banglore</td>\n",
       "      <td>1</td>\n",
       "      <td>2</td>\n",
       "      <td>50.000000</td>\n",
       "    </tr>\n",
       "    <tr>\n",
       "      <th>18</th>\n",
       "      <td>Eden Gardens, Kolkata</td>\n",
       "      <td>Gujarat</td>\n",
       "      <td>1</td>\n",
       "      <td>2</td>\n",
       "      <td>50.000000</td>\n",
       "    </tr>\n",
       "    <tr>\n",
       "      <th>19</th>\n",
       "      <td>Maharashtra Cricket Association Stadium,Pune</td>\n",
       "      <td>Banglore</td>\n",
       "      <td>2</td>\n",
       "      <td>13</td>\n",
       "      <td>15.384615</td>\n",
       "    </tr>\n",
       "    <tr>\n",
       "      <th>20</th>\n",
       "      <td>Maharashtra Cricket Association Stadium,Pune</td>\n",
       "      <td>Chennai</td>\n",
       "      <td>1</td>\n",
       "      <td>13</td>\n",
       "      <td>7.692308</td>\n",
       "    </tr>\n",
       "    <tr>\n",
       "      <th>21</th>\n",
       "      <td>Maharashtra Cricket Association Stadium,Pune</td>\n",
       "      <td>Gujarat</td>\n",
       "      <td>3</td>\n",
       "      <td>13</td>\n",
       "      <td>23.076923</td>\n",
       "    </tr>\n",
       "    <tr>\n",
       "      <th>22</th>\n",
       "      <td>Maharashtra Cricket Association Stadium,Pune</td>\n",
       "      <td>Kolkata</td>\n",
       "      <td>2</td>\n",
       "      <td>13</td>\n",
       "      <td>15.384615</td>\n",
       "    </tr>\n",
       "    <tr>\n",
       "      <th>23</th>\n",
       "      <td>Maharashtra Cricket Association Stadium,Pune</td>\n",
       "      <td>Lucknow</td>\n",
       "      <td>2</td>\n",
       "      <td>13</td>\n",
       "      <td>15.384615</td>\n",
       "    </tr>\n",
       "    <tr>\n",
       "      <th>24</th>\n",
       "      <td>Maharashtra Cricket Association Stadium,Pune</td>\n",
       "      <td>Punjab</td>\n",
       "      <td>1</td>\n",
       "      <td>13</td>\n",
       "      <td>7.692308</td>\n",
       "    </tr>\n",
       "    <tr>\n",
       "      <th>25</th>\n",
       "      <td>Maharashtra Cricket Association Stadium,Pune</td>\n",
       "      <td>Rajasthan</td>\n",
       "      <td>2</td>\n",
       "      <td>13</td>\n",
       "      <td>15.384615</td>\n",
       "    </tr>\n",
       "    <tr>\n",
       "      <th>26</th>\n",
       "      <td>Narendra Modi Stadium, Ahmedabad</td>\n",
       "      <td>Gujarat</td>\n",
       "      <td>1</td>\n",
       "      <td>2</td>\n",
       "      <td>50.000000</td>\n",
       "    </tr>\n",
       "    <tr>\n",
       "      <th>27</th>\n",
       "      <td>Narendra Modi Stadium, Ahmedabad</td>\n",
       "      <td>Rajasthan</td>\n",
       "      <td>1</td>\n",
       "      <td>2</td>\n",
       "      <td>50.000000</td>\n",
       "    </tr>\n",
       "    <tr>\n",
       "      <th>28</th>\n",
       "      <td>Wankhede Stadium, Mumbai</td>\n",
       "      <td>Banglore</td>\n",
       "      <td>4</td>\n",
       "      <td>22</td>\n",
       "      <td>18.181818</td>\n",
       "    </tr>\n",
       "    <tr>\n",
       "      <th>29</th>\n",
       "      <td>Wankhede Stadium, Mumbai</td>\n",
       "      <td>Delhi</td>\n",
       "      <td>1</td>\n",
       "      <td>22</td>\n",
       "      <td>4.545455</td>\n",
       "    </tr>\n",
       "    <tr>\n",
       "      <th>30</th>\n",
       "      <td>Wankhede Stadium, Mumbai</td>\n",
       "      <td>Gujarat</td>\n",
       "      <td>3</td>\n",
       "      <td>22</td>\n",
       "      <td>13.636364</td>\n",
       "    </tr>\n",
       "    <tr>\n",
       "      <th>31</th>\n",
       "      <td>Wankhede Stadium, Mumbai</td>\n",
       "      <td>Hyderabad</td>\n",
       "      <td>1</td>\n",
       "      <td>22</td>\n",
       "      <td>4.545455</td>\n",
       "    </tr>\n",
       "    <tr>\n",
       "      <th>32</th>\n",
       "      <td>Wankhede Stadium, Mumbai</td>\n",
       "      <td>Kolkata</td>\n",
       "      <td>3</td>\n",
       "      <td>22</td>\n",
       "      <td>13.636364</td>\n",
       "    </tr>\n",
       "    <tr>\n",
       "      <th>33</th>\n",
       "      <td>Wankhede Stadium, Mumbai</td>\n",
       "      <td>Lucknow</td>\n",
       "      <td>2</td>\n",
       "      <td>22</td>\n",
       "      <td>9.090909</td>\n",
       "    </tr>\n",
       "    <tr>\n",
       "      <th>34</th>\n",
       "      <td>Wankhede Stadium, Mumbai</td>\n",
       "      <td>Mumbai</td>\n",
       "      <td>2</td>\n",
       "      <td>22</td>\n",
       "      <td>9.090909</td>\n",
       "    </tr>\n",
       "    <tr>\n",
       "      <th>35</th>\n",
       "      <td>Wankhede Stadium, Mumbai</td>\n",
       "      <td>Punjab</td>\n",
       "      <td>2</td>\n",
       "      <td>22</td>\n",
       "      <td>9.090909</td>\n",
       "    </tr>\n",
       "    <tr>\n",
       "      <th>36</th>\n",
       "      <td>Wankhede Stadium, Mumbai</td>\n",
       "      <td>Rajasthan</td>\n",
       "      <td>4</td>\n",
       "      <td>22</td>\n",
       "      <td>18.181818</td>\n",
       "    </tr>\n",
       "  </tbody>\n",
       "</table>\n",
       "</div>"
      ],
      "text/plain": [
       "                                           venue match_winner  wins  \\\n",
       "0                      Brabourne Stadium, Mumbai        Delhi     4   \n",
       "1                      Brabourne Stadium, Mumbai      Gujarat     2   \n",
       "2                      Brabourne Stadium, Mumbai    Hyderabad     2   \n",
       "3                      Brabourne Stadium, Mumbai      Lucknow     2   \n",
       "4                      Brabourne Stadium, Mumbai       Mumbai     1   \n",
       "5                      Brabourne Stadium, Mumbai       Punjab     2   \n",
       "6                      Brabourne Stadium, Mumbai    Rajasthan     3   \n",
       "7             Dr DY Patil Sports Academy, Mumbai     Banglore     2   \n",
       "8             Dr DY Patil Sports Academy, Mumbai      Chennai     3   \n",
       "9             Dr DY Patil Sports Academy, Mumbai        Delhi     2   \n",
       "10            Dr DY Patil Sports Academy, Mumbai      Gujarat     2   \n",
       "11            Dr DY Patil Sports Academy, Mumbai    Hyderabad     2   \n",
       "12            Dr DY Patil Sports Academy, Mumbai      Kolkata     1   \n",
       "13            Dr DY Patil Sports Academy, Mumbai      Lucknow     3   \n",
       "14            Dr DY Patil Sports Academy, Mumbai       Mumbai     1   \n",
       "15            Dr DY Patil Sports Academy, Mumbai       Punjab     2   \n",
       "16            Dr DY Patil Sports Academy, Mumbai    Rajasthan     1   \n",
       "17                         Eden Gardens, Kolkata     Banglore     1   \n",
       "18                         Eden Gardens, Kolkata      Gujarat     1   \n",
       "19  Maharashtra Cricket Association Stadium,Pune     Banglore     2   \n",
       "20  Maharashtra Cricket Association Stadium,Pune      Chennai     1   \n",
       "21  Maharashtra Cricket Association Stadium,Pune      Gujarat     3   \n",
       "22  Maharashtra Cricket Association Stadium,Pune      Kolkata     2   \n",
       "23  Maharashtra Cricket Association Stadium,Pune      Lucknow     2   \n",
       "24  Maharashtra Cricket Association Stadium,Pune       Punjab     1   \n",
       "25  Maharashtra Cricket Association Stadium,Pune    Rajasthan     2   \n",
       "26              Narendra Modi Stadium, Ahmedabad      Gujarat     1   \n",
       "27              Narendra Modi Stadium, Ahmedabad    Rajasthan     1   \n",
       "28                      Wankhede Stadium, Mumbai     Banglore     4   \n",
       "29                      Wankhede Stadium, Mumbai        Delhi     1   \n",
       "30                      Wankhede Stadium, Mumbai      Gujarat     3   \n",
       "31                      Wankhede Stadium, Mumbai    Hyderabad     1   \n",
       "32                      Wankhede Stadium, Mumbai      Kolkata     3   \n",
       "33                      Wankhede Stadium, Mumbai      Lucknow     2   \n",
       "34                      Wankhede Stadium, Mumbai       Mumbai     2   \n",
       "35                      Wankhede Stadium, Mumbai       Punjab     2   \n",
       "36                      Wankhede Stadium, Mumbai    Rajasthan     4   \n",
       "\n",
       "    total_matches  win_percentage  \n",
       "0              16       25.000000  \n",
       "1              16       12.500000  \n",
       "2              16       12.500000  \n",
       "3              16       12.500000  \n",
       "4              16        6.250000  \n",
       "5              16       12.500000  \n",
       "6              16       18.750000  \n",
       "7              19       10.526316  \n",
       "8              19       15.789474  \n",
       "9              19       10.526316  \n",
       "10             19       10.526316  \n",
       "11             19       10.526316  \n",
       "12             19        5.263158  \n",
       "13             19       15.789474  \n",
       "14             19        5.263158  \n",
       "15             19       10.526316  \n",
       "16             19        5.263158  \n",
       "17              2       50.000000  \n",
       "18              2       50.000000  \n",
       "19             13       15.384615  \n",
       "20             13        7.692308  \n",
       "21             13       23.076923  \n",
       "22             13       15.384615  \n",
       "23             13       15.384615  \n",
       "24             13        7.692308  \n",
       "25             13       15.384615  \n",
       "26              2       50.000000  \n",
       "27              2       50.000000  \n",
       "28             22       18.181818  \n",
       "29             22        4.545455  \n",
       "30             22       13.636364  \n",
       "31             22        4.545455  \n",
       "32             22       13.636364  \n",
       "33             22        9.090909  \n",
       "34             22        9.090909  \n",
       "35             22        9.090909  \n",
       "36             22       18.181818  "
      ]
     },
     "execution_count": 100,
     "metadata": {},
     "output_type": "execute_result"
    }
   ],
   "source": [
    "# Total matches at each venue\n",
    "total_matches = df.groupby('venue').size().reset_index(name='total_matches')\n",
    "\n",
    "# Merge with wins\n",
    "win_percent_df = pd.merge(wins_by_venue, total_matches, on='venue')\n",
    "\n",
    "# Calculate win % for each team at each venue\n",
    "win_percent_df['win_percentage'] = (win_percent_df['wins'] / win_percent_df['total_matches']) * 100\n",
    "\n",
    "win_percent_df"
   ]
  }
 ],
 "metadata": {
  "kernelspec": {
   "display_name": "Python 3 (ipykernel)",
   "language": "python",
   "name": "python3"
  },
  "language_info": {
   "codemirror_mode": {
    "name": "ipython",
    "version": 3
   },
   "file_extension": ".py",
   "mimetype": "text/x-python",
   "name": "python",
   "nbconvert_exporter": "python",
   "pygments_lexer": "ipython3",
   "version": "3.13.5"
  }
 },
 "nbformat": 4,
 "nbformat_minor": 5
}
